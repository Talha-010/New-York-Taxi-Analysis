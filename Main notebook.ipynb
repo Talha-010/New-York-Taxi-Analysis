{
 "cells": [
  {
   "cell_type": "code",
   "execution_count": 1,
   "id": "901e0230",
   "metadata": {},
   "outputs": [],
   "source": [
    "import pandas as pd"
   ]
  },
  {
   "cell_type": "code",
   "execution_count": 78,
   "id": "281af4e4",
   "metadata": {},
   "outputs": [],
   "source": [
    "import numpy as np\n",
    "import matplotlib.pyplot as plt\n"
   ]
  },
  {
   "cell_type": "code",
   "execution_count": 3,
   "id": "a6f63a56",
   "metadata": {},
   "outputs": [],
   "source": [
    "taxi_jan_2023=pd.read_parquet('Data/yellow_tripdata_2023-01.parquet')\n",
    "taxi_data=pd.concat([taxi_jan_2023])"
   ]
  },
  {
   "cell_type": "code",
   "execution_count": 4,
   "id": "ca6d0e40",
   "metadata": {
    "scrolled": true
   },
   "outputs": [
    {
     "name": "stdout",
     "output_type": "stream",
     "text": [
      "(3066766, 19)\n"
     ]
    },
    {
     "data": {
      "text/html": [
       "<div>\n",
       "<style scoped>\n",
       "    .dataframe tbody tr th:only-of-type {\n",
       "        vertical-align: middle;\n",
       "    }\n",
       "\n",
       "    .dataframe tbody tr th {\n",
       "        vertical-align: top;\n",
       "    }\n",
       "\n",
       "    .dataframe thead th {\n",
       "        text-align: right;\n",
       "    }\n",
       "</style>\n",
       "<table border=\"1\" class=\"dataframe\">\n",
       "  <thead>\n",
       "    <tr style=\"text-align: right;\">\n",
       "      <th></th>\n",
       "      <th>VendorID</th>\n",
       "      <th>tpep_pickup_datetime</th>\n",
       "      <th>tpep_dropoff_datetime</th>\n",
       "      <th>passenger_count</th>\n",
       "      <th>trip_distance</th>\n",
       "      <th>RatecodeID</th>\n",
       "      <th>store_and_fwd_flag</th>\n",
       "      <th>PULocationID</th>\n",
       "      <th>DOLocationID</th>\n",
       "      <th>payment_type</th>\n",
       "      <th>fare_amount</th>\n",
       "      <th>extra</th>\n",
       "      <th>mta_tax</th>\n",
       "      <th>tip_amount</th>\n",
       "      <th>tolls_amount</th>\n",
       "      <th>improvement_surcharge</th>\n",
       "      <th>total_amount</th>\n",
       "      <th>congestion_surcharge</th>\n",
       "      <th>airport_fee</th>\n",
       "    </tr>\n",
       "  </thead>\n",
       "  <tbody>\n",
       "    <tr>\n",
       "      <th>0</th>\n",
       "      <td>2</td>\n",
       "      <td>2023-01-01 00:32:10</td>\n",
       "      <td>2023-01-01 00:40:36</td>\n",
       "      <td>1.0</td>\n",
       "      <td>0.97</td>\n",
       "      <td>1.0</td>\n",
       "      <td>N</td>\n",
       "      <td>161</td>\n",
       "      <td>141</td>\n",
       "      <td>2</td>\n",
       "      <td>9.3</td>\n",
       "      <td>1.00</td>\n",
       "      <td>0.5</td>\n",
       "      <td>0.00</td>\n",
       "      <td>0.0</td>\n",
       "      <td>1.0</td>\n",
       "      <td>14.30</td>\n",
       "      <td>2.5</td>\n",
       "      <td>0.00</td>\n",
       "    </tr>\n",
       "    <tr>\n",
       "      <th>1</th>\n",
       "      <td>2</td>\n",
       "      <td>2023-01-01 00:55:08</td>\n",
       "      <td>2023-01-01 01:01:27</td>\n",
       "      <td>1.0</td>\n",
       "      <td>1.10</td>\n",
       "      <td>1.0</td>\n",
       "      <td>N</td>\n",
       "      <td>43</td>\n",
       "      <td>237</td>\n",
       "      <td>1</td>\n",
       "      <td>7.9</td>\n",
       "      <td>1.00</td>\n",
       "      <td>0.5</td>\n",
       "      <td>4.00</td>\n",
       "      <td>0.0</td>\n",
       "      <td>1.0</td>\n",
       "      <td>16.90</td>\n",
       "      <td>2.5</td>\n",
       "      <td>0.00</td>\n",
       "    </tr>\n",
       "    <tr>\n",
       "      <th>2</th>\n",
       "      <td>2</td>\n",
       "      <td>2023-01-01 00:25:04</td>\n",
       "      <td>2023-01-01 00:37:49</td>\n",
       "      <td>1.0</td>\n",
       "      <td>2.51</td>\n",
       "      <td>1.0</td>\n",
       "      <td>N</td>\n",
       "      <td>48</td>\n",
       "      <td>238</td>\n",
       "      <td>1</td>\n",
       "      <td>14.9</td>\n",
       "      <td>1.00</td>\n",
       "      <td>0.5</td>\n",
       "      <td>15.00</td>\n",
       "      <td>0.0</td>\n",
       "      <td>1.0</td>\n",
       "      <td>34.90</td>\n",
       "      <td>2.5</td>\n",
       "      <td>0.00</td>\n",
       "    </tr>\n",
       "    <tr>\n",
       "      <th>3</th>\n",
       "      <td>1</td>\n",
       "      <td>2023-01-01 00:03:48</td>\n",
       "      <td>2023-01-01 00:13:25</td>\n",
       "      <td>0.0</td>\n",
       "      <td>1.90</td>\n",
       "      <td>1.0</td>\n",
       "      <td>N</td>\n",
       "      <td>138</td>\n",
       "      <td>7</td>\n",
       "      <td>1</td>\n",
       "      <td>12.1</td>\n",
       "      <td>7.25</td>\n",
       "      <td>0.5</td>\n",
       "      <td>0.00</td>\n",
       "      <td>0.0</td>\n",
       "      <td>1.0</td>\n",
       "      <td>20.85</td>\n",
       "      <td>0.0</td>\n",
       "      <td>1.25</td>\n",
       "    </tr>\n",
       "    <tr>\n",
       "      <th>4</th>\n",
       "      <td>2</td>\n",
       "      <td>2023-01-01 00:10:29</td>\n",
       "      <td>2023-01-01 00:21:19</td>\n",
       "      <td>1.0</td>\n",
       "      <td>1.43</td>\n",
       "      <td>1.0</td>\n",
       "      <td>N</td>\n",
       "      <td>107</td>\n",
       "      <td>79</td>\n",
       "      <td>1</td>\n",
       "      <td>11.4</td>\n",
       "      <td>1.00</td>\n",
       "      <td>0.5</td>\n",
       "      <td>3.28</td>\n",
       "      <td>0.0</td>\n",
       "      <td>1.0</td>\n",
       "      <td>19.68</td>\n",
       "      <td>2.5</td>\n",
       "      <td>0.00</td>\n",
       "    </tr>\n",
       "  </tbody>\n",
       "</table>\n",
       "</div>"
      ],
      "text/plain": [
       "   VendorID tpep_pickup_datetime tpep_dropoff_datetime  passenger_count  \\\n",
       "0         2  2023-01-01 00:32:10   2023-01-01 00:40:36              1.0   \n",
       "1         2  2023-01-01 00:55:08   2023-01-01 01:01:27              1.0   \n",
       "2         2  2023-01-01 00:25:04   2023-01-01 00:37:49              1.0   \n",
       "3         1  2023-01-01 00:03:48   2023-01-01 00:13:25              0.0   \n",
       "4         2  2023-01-01 00:10:29   2023-01-01 00:21:19              1.0   \n",
       "\n",
       "   trip_distance  RatecodeID store_and_fwd_flag  PULocationID  DOLocationID  \\\n",
       "0           0.97         1.0                  N           161           141   \n",
       "1           1.10         1.0                  N            43           237   \n",
       "2           2.51         1.0                  N            48           238   \n",
       "3           1.90         1.0                  N           138             7   \n",
       "4           1.43         1.0                  N           107            79   \n",
       "\n",
       "   payment_type  fare_amount  extra  mta_tax  tip_amount  tolls_amount  \\\n",
       "0             2          9.3   1.00      0.5        0.00           0.0   \n",
       "1             1          7.9   1.00      0.5        4.00           0.0   \n",
       "2             1         14.9   1.00      0.5       15.00           0.0   \n",
       "3             1         12.1   7.25      0.5        0.00           0.0   \n",
       "4             1         11.4   1.00      0.5        3.28           0.0   \n",
       "\n",
       "   improvement_surcharge  total_amount  congestion_surcharge  airport_fee  \n",
       "0                    1.0         14.30                   2.5         0.00  \n",
       "1                    1.0         16.90                   2.5         0.00  \n",
       "2                    1.0         34.90                   2.5         0.00  \n",
       "3                    1.0         20.85                   0.0         1.25  \n",
       "4                    1.0         19.68                   2.5         0.00  "
      ]
     },
     "execution_count": 4,
     "metadata": {},
     "output_type": "execute_result"
    }
   ],
   "source": [
    "print(taxi_jan_2023.shape)\n",
    "taxi_jan_2023.head()"
   ]
  },
  {
   "cell_type": "code",
   "execution_count": 5,
   "id": "76dd56c3",
   "metadata": {},
   "outputs": [
    {
     "data": {
      "text/plain": [
       "Index(['VendorID', 'tpep_pickup_datetime', 'tpep_dropoff_datetime',\n",
       "       'passenger_count', 'trip_distance', 'RatecodeID', 'store_and_fwd_flag',\n",
       "       'PULocationID', 'DOLocationID', 'payment_type', 'fare_amount', 'extra',\n",
       "       'mta_tax', 'tip_amount', 'tolls_amount', 'improvement_surcharge',\n",
       "       'total_amount', 'congestion_surcharge', 'airport_fee'],\n",
       "      dtype='object')"
      ]
     },
     "execution_count": 5,
     "metadata": {},
     "output_type": "execute_result"
    }
   ],
   "source": [
    "taxi_data.columns"
   ]
  },
  {
   "cell_type": "code",
   "execution_count": 6,
   "id": "806c1d78",
   "metadata": {},
   "outputs": [],
   "source": [
    "taxi_data=taxi_data[['tpep_pickup_datetime','tpep_dropoff_datetime','passenger_count','trip_distance','RatecodeID','PULocationID','DOLocationID','payment_type','total_amount']]"
   ]
  },
  {
   "cell_type": "markdown",
   "id": "b06cdd16",
   "metadata": {},
   "source": [
    "## Data Exploration"
   ]
  },
  {
   "cell_type": "code",
   "execution_count": 7,
   "id": "88d01963",
   "metadata": {},
   "outputs": [
    {
     "data": {
      "text/html": [
       "<div>\n",
       "<style scoped>\n",
       "    .dataframe tbody tr th:only-of-type {\n",
       "        vertical-align: middle;\n",
       "    }\n",
       "\n",
       "    .dataframe tbody tr th {\n",
       "        vertical-align: top;\n",
       "    }\n",
       "\n",
       "    .dataframe thead th {\n",
       "        text-align: right;\n",
       "    }\n",
       "</style>\n",
       "<table border=\"1\" class=\"dataframe\">\n",
       "  <thead>\n",
       "    <tr style=\"text-align: right;\">\n",
       "      <th></th>\n",
       "      <th>tpep_pickup_datetime</th>\n",
       "      <th>tpep_dropoff_datetime</th>\n",
       "      <th>passenger_count</th>\n",
       "      <th>trip_distance</th>\n",
       "      <th>RatecodeID</th>\n",
       "      <th>PULocationID</th>\n",
       "      <th>DOLocationID</th>\n",
       "      <th>payment_type</th>\n",
       "      <th>total_amount</th>\n",
       "    </tr>\n",
       "  </thead>\n",
       "  <tbody>\n",
       "    <tr>\n",
       "      <th>0</th>\n",
       "      <td>2023-01-01 00:32:10</td>\n",
       "      <td>2023-01-01 00:40:36</td>\n",
       "      <td>1.0</td>\n",
       "      <td>0.97</td>\n",
       "      <td>1.0</td>\n",
       "      <td>161</td>\n",
       "      <td>141</td>\n",
       "      <td>2</td>\n",
       "      <td>14.30</td>\n",
       "    </tr>\n",
       "    <tr>\n",
       "      <th>1</th>\n",
       "      <td>2023-01-01 00:55:08</td>\n",
       "      <td>2023-01-01 01:01:27</td>\n",
       "      <td>1.0</td>\n",
       "      <td>1.10</td>\n",
       "      <td>1.0</td>\n",
       "      <td>43</td>\n",
       "      <td>237</td>\n",
       "      <td>1</td>\n",
       "      <td>16.90</td>\n",
       "    </tr>\n",
       "    <tr>\n",
       "      <th>2</th>\n",
       "      <td>2023-01-01 00:25:04</td>\n",
       "      <td>2023-01-01 00:37:49</td>\n",
       "      <td>1.0</td>\n",
       "      <td>2.51</td>\n",
       "      <td>1.0</td>\n",
       "      <td>48</td>\n",
       "      <td>238</td>\n",
       "      <td>1</td>\n",
       "      <td>34.90</td>\n",
       "    </tr>\n",
       "    <tr>\n",
       "      <th>3</th>\n",
       "      <td>2023-01-01 00:03:48</td>\n",
       "      <td>2023-01-01 00:13:25</td>\n",
       "      <td>0.0</td>\n",
       "      <td>1.90</td>\n",
       "      <td>1.0</td>\n",
       "      <td>138</td>\n",
       "      <td>7</td>\n",
       "      <td>1</td>\n",
       "      <td>20.85</td>\n",
       "    </tr>\n",
       "    <tr>\n",
       "      <th>4</th>\n",
       "      <td>2023-01-01 00:10:29</td>\n",
       "      <td>2023-01-01 00:21:19</td>\n",
       "      <td>1.0</td>\n",
       "      <td>1.43</td>\n",
       "      <td>1.0</td>\n",
       "      <td>107</td>\n",
       "      <td>79</td>\n",
       "      <td>1</td>\n",
       "      <td>19.68</td>\n",
       "    </tr>\n",
       "  </tbody>\n",
       "</table>\n",
       "</div>"
      ],
      "text/plain": [
       "  tpep_pickup_datetime tpep_dropoff_datetime  passenger_count  trip_distance  \\\n",
       "0  2023-01-01 00:32:10   2023-01-01 00:40:36              1.0           0.97   \n",
       "1  2023-01-01 00:55:08   2023-01-01 01:01:27              1.0           1.10   \n",
       "2  2023-01-01 00:25:04   2023-01-01 00:37:49              1.0           2.51   \n",
       "3  2023-01-01 00:03:48   2023-01-01 00:13:25              0.0           1.90   \n",
       "4  2023-01-01 00:10:29   2023-01-01 00:21:19              1.0           1.43   \n",
       "\n",
       "   RatecodeID  PULocationID  DOLocationID  payment_type  total_amount  \n",
       "0         1.0           161           141             2         14.30  \n",
       "1         1.0            43           237             1         16.90  \n",
       "2         1.0            48           238             1         34.90  \n",
       "3         1.0           138             7             1         20.85  \n",
       "4         1.0           107            79             1         19.68  "
      ]
     },
     "execution_count": 7,
     "metadata": {},
     "output_type": "execute_result"
    }
   ],
   "source": [
    "taxi_data.head()"
   ]
  },
  {
   "cell_type": "code",
   "execution_count": 8,
   "id": "e4658612",
   "metadata": {},
   "outputs": [
    {
     "data": {
      "text/plain": [
       "tpep_pickup_datetime         0\n",
       "tpep_dropoff_datetime        0\n",
       "passenger_count          71743\n",
       "trip_distance                0\n",
       "RatecodeID               71743\n",
       "PULocationID                 0\n",
       "DOLocationID                 0\n",
       "payment_type                 0\n",
       "total_amount                 0\n",
       "dtype: int64"
      ]
     },
     "execution_count": 8,
     "metadata": {},
     "output_type": "execute_result"
    }
   ],
   "source": [
    "taxi_data.isnull().sum()"
   ]
  },
  {
   "cell_type": "code",
   "execution_count": 9,
   "id": "3498a5d9",
   "metadata": {},
   "outputs": [
    {
     "data": {
      "image/png": "[encoded data removed]",
      "text/plain": [
       "<Figure size 1440x720 with 9 Axes>"
      ]
     },
     "metadata": {
      "needs_background": "light"
     },
     "output_type": "display_data"
    }
   ],
   "source": [
    "taxi_data.hist(figsize=(20,10),bins=60)\n",
    "plt.show()"
   ]
  },
  {
   "cell_type": "code",
   "execution_count": 10,
   "id": "079d0afb",
   "metadata": {},
   "outputs": [
    {
     "data": {
      "text/plain": [
       "1.0     2839305\n",
       "2.0      114239\n",
       "5.0       15043\n",
       "99.0      13106\n",
       "3.0        8958\n",
       "4.0        4366\n",
       "6.0           6\n",
       "Name: RatecodeID, dtype: int64"
      ]
     },
     "execution_count": 10,
     "metadata": {},
     "output_type": "execute_result"
    }
   ],
   "source": [
    "taxi_data['RatecodeID'].value_counts()"
   ]
  },
  {
   "cell_type": "code",
   "execution_count": 11,
   "id": "74f0eb84",
   "metadata": {},
   "outputs": [
    {
     "data": {
      "text/plain": [
       "<AxesSubplot:xlabel='index', ylabel='total_amount'>"
      ]
     },
     "execution_count": 11,
     "metadata": {},
     "output_type": "execute_result"
    },
    {
     "data": {
      "image/png": "[encoded data removed]",
      "text/plain": [
       "<Figure size 720x360 with 1 Axes>"
      ]
     },
     "metadata": {
      "needs_background": "light"
     },
     "output_type": "display_data"
    }
   ],
   "source": [
    "taxi_data.reset_index().plot(kind='scatter',x='index',y='total_amount',figsize=(10,5))"
   ]
  },
  {
   "cell_type": "code",
   "execution_count": 12,
   "id": "967a25e0",
   "metadata": {},
   "outputs": [],
   "source": [
    "negative_values= taxi_data[taxi_data['total_amount']<0]"
   ]
  },
  {
   "cell_type": "markdown",
   "id": "14c70f55",
   "metadata": {},
   "source": [
    "tow things to deal with:negative values and high values"
   ]
  },
  {
   "cell_type": "code",
   "execution_count": 13,
   "id": "cea52210",
   "metadata": {},
   "outputs": [
    {
     "name": "stdout",
     "output_type": "stream",
     "text": [
      "(25204, 9)\n"
     ]
    }
   ],
   "source": [
    "print(negative_values.shape)"
   ]
  },
  {
   "cell_type": "code",
   "execution_count": 14,
   "id": "61050ace",
   "metadata": {},
   "outputs": [
    {
     "data": {
      "text/plain": [
       "<AxesSubplot:xlabel='index', ylabel='total_amount'>"
      ]
     },
     "execution_count": 14,
     "metadata": {},
     "output_type": "execute_result"
    },
    {
     "data": {
      "image/png": "[encoded data removed]",
      "text/plain": [
       "<Figure size 720x360 with 1 Axes>"
      ]
     },
     "metadata": {
      "needs_background": "light"
     },
     "output_type": "display_data"
    }
   ],
   "source": [
    "negative_values.reset_index().plot(kind='scatter',x='index',y='total_amount',figsize=(10,5))"
   ]
  },
  {
   "cell_type": "code",
   "execution_count": 15,
   "id": "8177a43e",
   "metadata": {},
   "outputs": [
    {
     "data": {
      "text/html": [
       "<div>\n",
       "<style scoped>\n",
       "    .dataframe tbody tr th:only-of-type {\n",
       "        vertical-align: middle;\n",
       "    }\n",
       "\n",
       "    .dataframe tbody tr th {\n",
       "        vertical-align: top;\n",
       "    }\n",
       "\n",
       "    .dataframe thead th {\n",
       "        text-align: right;\n",
       "    }\n",
       "</style>\n",
       "<table border=\"1\" class=\"dataframe\">\n",
       "  <thead>\n",
       "    <tr style=\"text-align: right;\">\n",
       "      <th></th>\n",
       "      <th>tpep_pickup_datetime</th>\n",
       "      <th>tpep_dropoff_datetime</th>\n",
       "      <th>passenger_count</th>\n",
       "      <th>trip_distance</th>\n",
       "      <th>RatecodeID</th>\n",
       "      <th>PULocationID</th>\n",
       "      <th>DOLocationID</th>\n",
       "      <th>payment_type</th>\n",
       "      <th>total_amount</th>\n",
       "    </tr>\n",
       "  </thead>\n",
       "  <tbody>\n",
       "    <tr>\n",
       "      <th>132</th>\n",
       "      <td>2023-01-01 00:28:29</td>\n",
       "      <td>2023-01-01 00:31:03</td>\n",
       "      <td>1.0</td>\n",
       "      <td>0.42</td>\n",
       "      <td>1.0</td>\n",
       "      <td>233</td>\n",
       "      <td>229</td>\n",
       "      <td>4</td>\n",
       "      <td>-10.1</td>\n",
       "    </tr>\n",
       "    <tr>\n",
       "      <th>263</th>\n",
       "      <td>2023-01-01 00:20:18</td>\n",
       "      <td>2023-01-01 00:27:56</td>\n",
       "      <td>2.0</td>\n",
       "      <td>1.19</td>\n",
       "      <td>1.0</td>\n",
       "      <td>142</td>\n",
       "      <td>50</td>\n",
       "      <td>4</td>\n",
       "      <td>-14.3</td>\n",
       "    </tr>\n",
       "    <tr>\n",
       "      <th>324</th>\n",
       "      <td>2023-01-01 00:52:22</td>\n",
       "      <td>2023-01-01 01:14:03</td>\n",
       "      <td>1.0</td>\n",
       "      <td>4.89</td>\n",
       "      <td>1.0</td>\n",
       "      <td>238</td>\n",
       "      <td>167</td>\n",
       "      <td>4</td>\n",
       "      <td>-30.4</td>\n",
       "    </tr>\n",
       "    <tr>\n",
       "      <th>620</th>\n",
       "      <td>2023-01-01 00:06:39</td>\n",
       "      <td>2023-01-01 00:10:02</td>\n",
       "      <td>1.0</td>\n",
       "      <td>0.52</td>\n",
       "      <td>1.0</td>\n",
       "      <td>237</td>\n",
       "      <td>237</td>\n",
       "      <td>2</td>\n",
       "      <td>-10.1</td>\n",
       "    </tr>\n",
       "    <tr>\n",
       "      <th>923</th>\n",
       "      <td>2023-01-01 00:34:39</td>\n",
       "      <td>2023-01-01 00:40:25</td>\n",
       "      <td>2.0</td>\n",
       "      <td>0.85</td>\n",
       "      <td>1.0</td>\n",
       "      <td>79</td>\n",
       "      <td>113</td>\n",
       "      <td>4</td>\n",
       "      <td>-12.2</td>\n",
       "    </tr>\n",
       "  </tbody>\n",
       "</table>\n",
       "</div>"
      ],
      "text/plain": [
       "    tpep_pickup_datetime tpep_dropoff_datetime  passenger_count  \\\n",
       "132  2023-01-01 00:28:29   2023-01-01 00:31:03              1.0   \n",
       "263  2023-01-01 00:20:18   2023-01-01 00:27:56              2.0   \n",
       "324  2023-01-01 00:52:22   2023-01-01 01:14:03              1.0   \n",
       "620  2023-01-01 00:06:39   2023-01-01 00:10:02              1.0   \n",
       "923  2023-01-01 00:34:39   2023-01-01 00:40:25              2.0   \n",
       "\n",
       "     trip_distance  RatecodeID  PULocationID  DOLocationID  payment_type  \\\n",
       "132           0.42         1.0           233           229             4   \n",
       "263           1.19         1.0           142            50             4   \n",
       "324           4.89         1.0           238           167             4   \n",
       "620           0.52         1.0           237           237             2   \n",
       "923           0.85         1.0            79           113             4   \n",
       "\n",
       "     total_amount  \n",
       "132         -10.1  \n",
       "263         -14.3  \n",
       "324         -30.4  \n",
       "620         -10.1  \n",
       "923         -12.2  "
      ]
     },
     "execution_count": 15,
     "metadata": {},
     "output_type": "execute_result"
    }
   ],
   "source": [
    "negative_values.head()"
   ]
  },
  {
   "cell_type": "code",
   "execution_count": 16,
   "id": "f79fb540",
   "metadata": {},
   "outputs": [
    {
     "name": "stdout",
     "output_type": "stream",
     "text": [
      "(568, 9)\n"
     ]
    },
    {
     "data": {
      "text/html": [
       "<div>\n",
       "<style scoped>\n",
       "    .dataframe tbody tr th:only-of-type {\n",
       "        vertical-align: middle;\n",
       "    }\n",
       "\n",
       "    .dataframe tbody tr th {\n",
       "        vertical-align: top;\n",
       "    }\n",
       "\n",
       "    .dataframe thead th {\n",
       "        text-align: right;\n",
       "    }\n",
       "</style>\n",
       "<table border=\"1\" class=\"dataframe\">\n",
       "  <thead>\n",
       "    <tr style=\"text-align: right;\">\n",
       "      <th></th>\n",
       "      <th>tpep_pickup_datetime</th>\n",
       "      <th>tpep_dropoff_datetime</th>\n",
       "      <th>passenger_count</th>\n",
       "      <th>trip_distance</th>\n",
       "      <th>RatecodeID</th>\n",
       "      <th>PULocationID</th>\n",
       "      <th>DOLocationID</th>\n",
       "      <th>payment_type</th>\n",
       "      <th>total_amount</th>\n",
       "    </tr>\n",
       "  </thead>\n",
       "  <tbody>\n",
       "    <tr>\n",
       "      <th>3291</th>\n",
       "      <td>2023-01-01 00:11:55</td>\n",
       "      <td>2023-01-01 00:11:55</td>\n",
       "      <td>1.0</td>\n",
       "      <td>0.0</td>\n",
       "      <td>5.0</td>\n",
       "      <td>137</td>\n",
       "      <td>264</td>\n",
       "      <td>2</td>\n",
       "      <td>0.0</td>\n",
       "    </tr>\n",
       "    <tr>\n",
       "      <th>23186</th>\n",
       "      <td>2023-01-01 07:23:50</td>\n",
       "      <td>2023-01-01 07:55:05</td>\n",
       "      <td>2.0</td>\n",
       "      <td>10.4</td>\n",
       "      <td>1.0</td>\n",
       "      <td>48</td>\n",
       "      <td>95</td>\n",
       "      <td>3</td>\n",
       "      <td>0.0</td>\n",
       "    </tr>\n",
       "    <tr>\n",
       "      <th>61780</th>\n",
       "      <td>2023-01-01 19:16:54</td>\n",
       "      <td>2023-01-01 19:17:15</td>\n",
       "      <td>1.0</td>\n",
       "      <td>0.0</td>\n",
       "      <td>2.0</td>\n",
       "      <td>261</td>\n",
       "      <td>261</td>\n",
       "      <td>3</td>\n",
       "      <td>0.0</td>\n",
       "    </tr>\n",
       "    <tr>\n",
       "      <th>61846</th>\n",
       "      <td>2023-01-01 19:24:33</td>\n",
       "      <td>2023-01-01 19:25:27</td>\n",
       "      <td>1.0</td>\n",
       "      <td>0.1</td>\n",
       "      <td>1.0</td>\n",
       "      <td>116</td>\n",
       "      <td>116</td>\n",
       "      <td>4</td>\n",
       "      <td>0.0</td>\n",
       "    </tr>\n",
       "    <tr>\n",
       "      <th>78670</th>\n",
       "      <td>2023-01-02 07:11:13</td>\n",
       "      <td>2023-01-02 07:12:11</td>\n",
       "      <td>1.0</td>\n",
       "      <td>0.0</td>\n",
       "      <td>1.0</td>\n",
       "      <td>48</td>\n",
       "      <td>48</td>\n",
       "      <td>4</td>\n",
       "      <td>0.0</td>\n",
       "    </tr>\n",
       "  </tbody>\n",
       "</table>\n",
       "</div>"
      ],
      "text/plain": [
       "      tpep_pickup_datetime tpep_dropoff_datetime  passenger_count  \\\n",
       "3291   2023-01-01 00:11:55   2023-01-01 00:11:55              1.0   \n",
       "23186  2023-01-01 07:23:50   2023-01-01 07:55:05              2.0   \n",
       "61780  2023-01-01 19:16:54   2023-01-01 19:17:15              1.0   \n",
       "61846  2023-01-01 19:24:33   2023-01-01 19:25:27              1.0   \n",
       "78670  2023-01-02 07:11:13   2023-01-02 07:12:11              1.0   \n",
       "\n",
       "       trip_distance  RatecodeID  PULocationID  DOLocationID  payment_type  \\\n",
       "3291             0.0         5.0           137           264             2   \n",
       "23186           10.4         1.0            48            95             3   \n",
       "61780            0.0         2.0           261           261             3   \n",
       "61846            0.1         1.0           116           116             4   \n",
       "78670            0.0         1.0            48            48             4   \n",
       "\n",
       "       total_amount  \n",
       "3291            0.0  \n",
       "23186           0.0  \n",
       "61780           0.0  \n",
       "61846           0.0  \n",
       "78670           0.0  "
      ]
     },
     "execution_count": 16,
     "metadata": {},
     "output_type": "execute_result"
    }
   ],
   "source": [
    "print(taxi_data[taxi_data['total_amount']==0].shape)\n",
    "taxi_data[taxi_data['total_amount']==0].head()\n",
    "\n"
   ]
  },
  {
   "cell_type": "code",
   "execution_count": 17,
   "id": "4b351f98",
   "metadata": {},
   "outputs": [
    {
     "data": {
      "text/plain": [
       "1    227\n",
       "2    128\n",
       "4    123\n",
       "3     84\n",
       "0      6\n",
       "Name: payment_type, dtype: int64"
      ]
     },
     "execution_count": 17,
     "metadata": {},
     "output_type": "execute_result"
    }
   ],
   "source": [
    "taxi_data[taxi_data['total_amount']==0]['payment_type'].value_counts()"
   ]
  },
  {
   "cell_type": "code",
   "execution_count": 18,
   "id": "7e6ba2b8",
   "metadata": {
    "scrolled": true
   },
   "outputs": [
    {
     "data": {
      "text/plain": [
       "0.00     450\n",
       "0.10      21\n",
       "0.70       8\n",
       "0.80       7\n",
       "0.30       7\n",
       "0.20       5\n",
       "0.50       5\n",
       "0.40       4\n",
       "1.00       4\n",
       "2.70       4\n",
       "1.20       4\n",
       "1.10       4\n",
       "1.40       3\n",
       "3.50       2\n",
       "2.20       2\n",
       "1.50       2\n",
       "1.30       2\n",
       "20.80      2\n",
       "2.80       2\n",
       "2.30       2\n",
       "0.60       2\n",
       "12.00      2\n",
       "4.50       1\n",
       "2.10       1\n",
       "8.80       1\n",
       "14.00      1\n",
       "18.80      1\n",
       "3.10       1\n",
       "0.67       1\n",
       "6.80       1\n",
       "14.90      1\n",
       "3.80       1\n",
       "1.60       1\n",
       "18.90      1\n",
       "5.50       1\n",
       "10.40      1\n",
       "15.90      1\n",
       "17.60      1\n",
       "4.30       1\n",
       "18.10      1\n",
       "8.10       1\n",
       "3.40       1\n",
       "7.10       1\n",
       "0.01       1\n",
       "6.00       1\n",
       "1.80       1\n",
       "Name: trip_distance, dtype: int64"
      ]
     },
     "execution_count": 18,
     "metadata": {},
     "output_type": "execute_result"
    }
   ],
   "source": [
    "taxi_data[taxi_data['total_amount']==0]['trip_distance'].value_counts()"
   ]
  },
  {
   "cell_type": "code",
   "execution_count": 19,
   "id": "3b64945b",
   "metadata": {},
   "outputs": [
    {
     "data": {
      "text/plain": [
       "(1736, 9)"
      ]
     },
     "execution_count": 19,
     "metadata": {},
     "output_type": "execute_result"
    }
   ],
   "source": [
    "taxi_data[taxi_data['total_amount']>200].shape"
   ]
  },
  {
   "cell_type": "code",
   "execution_count": 20,
   "id": "1d3b9019",
   "metadata": {},
   "outputs": [
    {
     "data": {
      "text/plain": [
       "27.02038310708492"
      ]
     },
     "execution_count": 20,
     "metadata": {},
     "output_type": "execute_result"
    }
   ],
   "source": [
    "taxi_data['total_amount'].mean()"
   ]
  },
  {
   "cell_type": "code",
   "execution_count": null,
   "id": "d09a38d2",
   "metadata": {},
   "outputs": [],
   "source": []
  },
  {
   "cell_type": "markdown",
   "id": "530e2d5b",
   "metadata": {},
   "source": [
    "## Data Cleaning"
   ]
  },
  {
   "cell_type": "code",
   "execution_count": 21,
   "id": "cfcdbfc7",
   "metadata": {},
   "outputs": [],
   "source": [
    "#taxi_data.drop(taxi_data(taxi_data['total_amount']>200),inplace=True)\n",
    "#taxi_data.drop(taxi_data[taxi_data['total_amount']<=0],inplace=True)"
   ]
  },
  {
   "cell_type": "code",
   "execution_count": 22,
   "id": "20bcda19",
   "metadata": {},
   "outputs": [],
   "source": [
    "taxi_data_filterd=taxi_data[(taxi_data['total_amount']>=0) & (taxi_data['total_amount']<200)]"
   ]
  },
  {
   "cell_type": "code",
   "execution_count": 23,
   "id": "2e5063ab",
   "metadata": {},
   "outputs": [
    {
     "name": "stdout",
     "output_type": "stream",
     "text": [
      "(3066766, 9)\n"
     ]
    },
    {
     "data": {
      "text/plain": [
       "(3039817, 9)"
      ]
     },
     "execution_count": 23,
     "metadata": {},
     "output_type": "execute_result"
    }
   ],
   "source": [
    "print(taxi_data.shape)\n",
    "taxi_data_filterd.shape"
   ]
  },
  {
   "cell_type": "code",
   "execution_count": 24,
   "id": "c4d582bb",
   "metadata": {},
   "outputs": [
    {
     "data": {
      "text/plain": [
       "tpep_pickup_datetime         0\n",
       "tpep_dropoff_datetime        0\n",
       "passenger_count          71694\n",
       "trip_distance                0\n",
       "RatecodeID               71694\n",
       "PULocationID                 0\n",
       "DOLocationID                 0\n",
       "payment_type                 0\n",
       "total_amount                 0\n",
       "dtype: int64"
      ]
     },
     "execution_count": 24,
     "metadata": {},
     "output_type": "execute_result"
    }
   ],
   "source": [
    "taxi_data_filterd.isna().sum()"
   ]
  },
  {
   "cell_type": "code",
   "execution_count": 25,
   "id": "9cf89da9",
   "metadata": {},
   "outputs": [
    {
     "name": "stdout",
     "output_type": "stream",
     "text": [
      "<class 'pandas.core.frame.DataFrame'>\n",
      "Int64Index: 3039817 entries, 0 to 3066765\n",
      "Data columns (total 9 columns):\n",
      " #   Column                 Dtype         \n",
      "---  ------                 -----         \n",
      " 0   tpep_pickup_datetime   datetime64[ns]\n",
      " 1   tpep_dropoff_datetime  datetime64[ns]\n",
      " 2   passenger_count        float64       \n",
      " 3   trip_distance          float64       \n",
      " 4   RatecodeID             float64       \n",
      " 5   PULocationID           int64         \n",
      " 6   DOLocationID           int64         \n",
      " 7   payment_type           int64         \n",
      " 8   total_amount           float64       \n",
      "dtypes: datetime64[ns](2), float64(4), int64(3)\n",
      "memory usage: 231.9 MB\n"
     ]
    }
   ],
   "source": [
    "taxi_data_filterd.info()"
   ]
  },
  {
   "cell_type": "code",
   "execution_count": null,
   "id": "a5ab70cf",
   "metadata": {},
   "outputs": [],
   "source": []
  },
  {
   "cell_type": "code",
   "execution_count": null,
   "id": "fa1e8eb5",
   "metadata": {},
   "outputs": [],
   "source": []
  },
  {
   "cell_type": "code",
   "execution_count": null,
   "id": "03dd092f",
   "metadata": {},
   "outputs": [],
   "source": []
  },
  {
   "cell_type": "markdown",
   "id": "092352dc",
   "metadata": {},
   "source": [
    "# Data Preparation"
   ]
  },
  {
   "cell_type": "code",
   "execution_count": 26,
   "id": "9684cf37",
   "metadata": {},
   "outputs": [],
   "source": [
    "taxi_data_prepared=taxi_data_filterd.copy()"
   ]
  },
  {
   "cell_type": "code",
   "execution_count": 27,
   "id": "efb81c5e",
   "metadata": {},
   "outputs": [
    {
     "data": {
      "text/plain": [
       "tpep_pickup_datetime     datetime64[ns]\n",
       "tpep_dropoff_datetime    datetime64[ns]\n",
       "passenger_count                 float64\n",
       "trip_distance                   float64\n",
       "RatecodeID                      float64\n",
       "PULocationID                      int64\n",
       "DOLocationID                      int64\n",
       "payment_type                      int64\n",
       "total_amount                    float64\n",
       "dtype: object"
      ]
     },
     "execution_count": 27,
     "metadata": {},
     "output_type": "execute_result"
    }
   ],
   "source": [
    "taxi_data_prepared.dtypes"
   ]
  },
  {
   "cell_type": "code",
   "execution_count": 28,
   "id": "2fb297b6",
   "metadata": {},
   "outputs": [],
   "source": [
    "taxi_data_prepared.loc[:,'RatecodeID']= taxi_data_prepared['RatecodeID'].astype(str)\n",
    "taxi_data_prepared.loc[:,'PULocationID']= taxi_data_prepared['PULocationID'].astype(str)\n",
    "taxi_data_prepared.loc[:,'DOLocationID']= taxi_data_prepared['DOLocationID'].astype(str)\n",
    "taxi_data_prepared.loc[:,'payment_type']= taxi_data_prepared['payment_type'].astype(str)\n",
    "\n",
    "\n"
   ]
  },
  {
   "cell_type": "code",
   "execution_count": 29,
   "id": "b09e324a",
   "metadata": {},
   "outputs": [
    {
     "data": {
      "text/plain": [
       "tpep_pickup_datetime     datetime64[ns]\n",
       "tpep_dropoff_datetime    datetime64[ns]\n",
       "passenger_count                 float64\n",
       "trip_distance                   float64\n",
       "RatecodeID                       object\n",
       "PULocationID                     object\n",
       "DOLocationID                     object\n",
       "payment_type                     object\n",
       "total_amount                    float64\n",
       "dtype: object"
      ]
     },
     "execution_count": 29,
     "metadata": {},
     "output_type": "execute_result"
    }
   ],
   "source": [
    "taxi_data_prepared.dtypes"
   ]
  },
  {
   "cell_type": "code",
   "execution_count": 30,
   "id": "f75e97a0",
   "metadata": {},
   "outputs": [],
   "source": [
    "taxi_data_prepared['transaction_date']= pd.to_datetime(taxi_data_prepared['tpep_pickup_datetime'].dt.date)\n",
    "\n",
    "taxi_data_prepared['transaction_year']= taxi_data_prepared['tpep_pickup_datetime'].dt.year\n",
    "\n",
    "taxi_data_prepared['transaction_month']= taxi_data_prepared['tpep_pickup_datetime'].dt.month\n",
    "\n",
    "taxi_data_prepared['transaction_day']= taxi_data_prepared['tpep_pickup_datetime'].dt.day\n",
    "\n",
    "taxi_data_prepared['transaction_hour']= taxi_data_prepared['tpep_pickup_datetime'].dt.hour\n",
    "\n",
    "\n",
    "\n",
    "\n"
   ]
  },
  {
   "cell_type": "code",
   "execution_count": 31,
   "id": "63bc8fc8",
   "metadata": {},
   "outputs": [
    {
     "data": {
      "text/html": [
       "<div>\n",
       "<style scoped>\n",
       "    .dataframe tbody tr th:only-of-type {\n",
       "        vertical-align: middle;\n",
       "    }\n",
       "\n",
       "    .dataframe tbody tr th {\n",
       "        vertical-align: top;\n",
       "    }\n",
       "\n",
       "    .dataframe thead th {\n",
       "        text-align: right;\n",
       "    }\n",
       "</style>\n",
       "<table border=\"1\" class=\"dataframe\">\n",
       "  <thead>\n",
       "    <tr style=\"text-align: right;\">\n",
       "      <th></th>\n",
       "      <th>tpep_pickup_datetime</th>\n",
       "      <th>tpep_dropoff_datetime</th>\n",
       "      <th>passenger_count</th>\n",
       "      <th>trip_distance</th>\n",
       "      <th>RatecodeID</th>\n",
       "      <th>PULocationID</th>\n",
       "      <th>DOLocationID</th>\n",
       "      <th>payment_type</th>\n",
       "      <th>total_amount</th>\n",
       "      <th>transaction_date</th>\n",
       "      <th>transaction_year</th>\n",
       "      <th>transaction_month</th>\n",
       "      <th>transaction_day</th>\n",
       "      <th>transaction_hour</th>\n",
       "    </tr>\n",
       "  </thead>\n",
       "  <tbody>\n",
       "    <tr>\n",
       "      <th>0</th>\n",
       "      <td>2023-01-01 00:32:10</td>\n",
       "      <td>2023-01-01 00:40:36</td>\n",
       "      <td>1.0</td>\n",
       "      <td>0.97</td>\n",
       "      <td>1.0</td>\n",
       "      <td>161</td>\n",
       "      <td>141</td>\n",
       "      <td>2</td>\n",
       "      <td>14.30</td>\n",
       "      <td>2023-01-01</td>\n",
       "      <td>2023</td>\n",
       "      <td>1</td>\n",
       "      <td>1</td>\n",
       "      <td>0</td>\n",
       "    </tr>\n",
       "    <tr>\n",
       "      <th>1</th>\n",
       "      <td>2023-01-01 00:55:08</td>\n",
       "      <td>2023-01-01 01:01:27</td>\n",
       "      <td>1.0</td>\n",
       "      <td>1.10</td>\n",
       "      <td>1.0</td>\n",
       "      <td>43</td>\n",
       "      <td>237</td>\n",
       "      <td>1</td>\n",
       "      <td>16.90</td>\n",
       "      <td>2023-01-01</td>\n",
       "      <td>2023</td>\n",
       "      <td>1</td>\n",
       "      <td>1</td>\n",
       "      <td>0</td>\n",
       "    </tr>\n",
       "    <tr>\n",
       "      <th>2</th>\n",
       "      <td>2023-01-01 00:25:04</td>\n",
       "      <td>2023-01-01 00:37:49</td>\n",
       "      <td>1.0</td>\n",
       "      <td>2.51</td>\n",
       "      <td>1.0</td>\n",
       "      <td>48</td>\n",
       "      <td>238</td>\n",
       "      <td>1</td>\n",
       "      <td>34.90</td>\n",
       "      <td>2023-01-01</td>\n",
       "      <td>2023</td>\n",
       "      <td>1</td>\n",
       "      <td>1</td>\n",
       "      <td>0</td>\n",
       "    </tr>\n",
       "    <tr>\n",
       "      <th>3</th>\n",
       "      <td>2023-01-01 00:03:48</td>\n",
       "      <td>2023-01-01 00:13:25</td>\n",
       "      <td>0.0</td>\n",
       "      <td>1.90</td>\n",
       "      <td>1.0</td>\n",
       "      <td>138</td>\n",
       "      <td>7</td>\n",
       "      <td>1</td>\n",
       "      <td>20.85</td>\n",
       "      <td>2023-01-01</td>\n",
       "      <td>2023</td>\n",
       "      <td>1</td>\n",
       "      <td>1</td>\n",
       "      <td>0</td>\n",
       "    </tr>\n",
       "    <tr>\n",
       "      <th>4</th>\n",
       "      <td>2023-01-01 00:10:29</td>\n",
       "      <td>2023-01-01 00:21:19</td>\n",
       "      <td>1.0</td>\n",
       "      <td>1.43</td>\n",
       "      <td>1.0</td>\n",
       "      <td>107</td>\n",
       "      <td>79</td>\n",
       "      <td>1</td>\n",
       "      <td>19.68</td>\n",
       "      <td>2023-01-01</td>\n",
       "      <td>2023</td>\n",
       "      <td>1</td>\n",
       "      <td>1</td>\n",
       "      <td>0</td>\n",
       "    </tr>\n",
       "  </tbody>\n",
       "</table>\n",
       "</div>"
      ],
      "text/plain": [
       "  tpep_pickup_datetime tpep_dropoff_datetime  passenger_count  trip_distance  \\\n",
       "0  2023-01-01 00:32:10   2023-01-01 00:40:36              1.0           0.97   \n",
       "1  2023-01-01 00:55:08   2023-01-01 01:01:27              1.0           1.10   \n",
       "2  2023-01-01 00:25:04   2023-01-01 00:37:49              1.0           2.51   \n",
       "3  2023-01-01 00:03:48   2023-01-01 00:13:25              0.0           1.90   \n",
       "4  2023-01-01 00:10:29   2023-01-01 00:21:19              1.0           1.43   \n",
       "\n",
       "  RatecodeID PULocationID DOLocationID payment_type  total_amount  \\\n",
       "0        1.0          161          141            2         14.30   \n",
       "1        1.0           43          237            1         16.90   \n",
       "2        1.0           48          238            1         34.90   \n",
       "3        1.0          138            7            1         20.85   \n",
       "4        1.0          107           79            1         19.68   \n",
       "\n",
       "  transaction_date  transaction_year  transaction_month  transaction_day  \\\n",
       "0       2023-01-01              2023                  1                1   \n",
       "1       2023-01-01              2023                  1                1   \n",
       "2       2023-01-01              2023                  1                1   \n",
       "3       2023-01-01              2023                  1                1   \n",
       "4       2023-01-01              2023                  1                1   \n",
       "\n",
       "   transaction_hour  \n",
       "0                 0  \n",
       "1                 0  \n",
       "2                 0  \n",
       "3                 0  \n",
       "4                 0  "
      ]
     },
     "execution_count": 31,
     "metadata": {},
     "output_type": "execute_result"
    }
   ],
   "source": [
    "taxi_data_prepared.head()"
   ]
  },
  {
   "cell_type": "code",
   "execution_count": 32,
   "id": "27c7bff1",
   "metadata": {},
   "outputs": [
    {
     "data": {
      "text/plain": [
       "2023    3039779\n",
       "2022         36\n",
       "2008          2\n",
       "Name: transaction_year, dtype: int64"
      ]
     },
     "execution_count": 32,
     "metadata": {},
     "output_type": "execute_result"
    }
   ],
   "source": [
    "taxi_data_prepared['transaction_year'].value_counts()"
   ]
  },
  {
   "cell_type": "code",
   "execution_count": 33,
   "id": "d2560b4b",
   "metadata": {},
   "outputs": [
    {
     "data": {
      "text/plain": [
       "array([[<AxesSubplot:title={'center':'tpep_pickup_datetime'}>,\n",
       "        <AxesSubplot:title={'center':'tpep_dropoff_datetime'}>,\n",
       "        <AxesSubplot:title={'center':'passenger_count'}>],\n",
       "       [<AxesSubplot:title={'center':'trip_distance'}>,\n",
       "        <AxesSubplot:title={'center':'total_amount'}>,\n",
       "        <AxesSubplot:title={'center':'transaction_date'}>],\n",
       "       [<AxesSubplot:title={'center':'transaction_year'}>,\n",
       "        <AxesSubplot:title={'center':'transaction_month'}>,\n",
       "        <AxesSubplot:title={'center':'transaction_day'}>],\n",
       "       [<AxesSubplot:title={'center':'transaction_hour'}>,\n",
       "        <AxesSubplot:>, <AxesSubplot:>]], dtype=object)"
      ]
     },
     "execution_count": 33,
     "metadata": {},
     "output_type": "execute_result"
    },
    {
     "data": {
      "image/png": "[encoded data removed]",
      "text/plain": [
       "<Figure size 1440x720 with 12 Axes>"
      ]
     },
     "metadata": {
      "needs_background": "light"
     },
     "output_type": "display_data"
    }
   ],
   "source": [
    "taxi_data_prepared.hist(figsize=(20,10),bins=60)"
   ]
  },
  {
   "cell_type": "code",
   "execution_count": 34,
   "id": "4e2c36be",
   "metadata": {},
   "outputs": [],
   "source": [
    "taxi_data_prepared=taxi_data_prepared[taxi_data_prepared['transaction_year']==2023]\n",
    "taxi_data_prepared=taxi_data_prepared[taxi_data_prepared['transaction_month']==1]"
   ]
  },
  {
   "cell_type": "code",
   "execution_count": 35,
   "id": "ef73829b",
   "metadata": {},
   "outputs": [
    {
     "data": {
      "text/plain": [
       "Index(['tpep_pickup_datetime', 'tpep_dropoff_datetime', 'passenger_count',\n",
       "       'trip_distance', 'RatecodeID', 'PULocationID', 'DOLocationID',\n",
       "       'payment_type', 'total_amount', 'transaction_date', 'transaction_year',\n",
       "       'transaction_month', 'transaction_day', 'transaction_hour'],\n",
       "      dtype='object')"
      ]
     },
     "execution_count": 35,
     "metadata": {},
     "output_type": "execute_result"
    }
   ],
   "source": [
    "taxi_data_prepared.columns"
   ]
  },
  {
   "cell_type": "code",
   "execution_count": 36,
   "id": "19dd3a54",
   "metadata": {},
   "outputs": [],
   "source": [
    "categorical_columns=['PULocationID','transaction_date','transaction_month', 'transaction_day', 'transaction_hour']\n",
    "numerical_columns=['trip_distance','total_amount']\n",
    "all_needed_columns= categorical_columns + numerical_columns"
   ]
  },
  {
   "cell_type": "code",
   "execution_count": 37,
   "id": "9ebea8f2",
   "metadata": {},
   "outputs": [
    {
     "name": "stdout",
     "output_type": "stream",
     "text": [
      "(3039769, 7)\n"
     ]
    },
    {
     "data": {
      "text/html": [
       "<div>\n",
       "<style scoped>\n",
       "    .dataframe tbody tr th:only-of-type {\n",
       "        vertical-align: middle;\n",
       "    }\n",
       "\n",
       "    .dataframe tbody tr th {\n",
       "        vertical-align: top;\n",
       "    }\n",
       "\n",
       "    .dataframe thead th {\n",
       "        text-align: right;\n",
       "    }\n",
       "</style>\n",
       "<table border=\"1\" class=\"dataframe\">\n",
       "  <thead>\n",
       "    <tr style=\"text-align: right;\">\n",
       "      <th></th>\n",
       "      <th>PULocationID</th>\n",
       "      <th>transaction_date</th>\n",
       "      <th>transaction_month</th>\n",
       "      <th>transaction_day</th>\n",
       "      <th>transaction_hour</th>\n",
       "      <th>trip_distance</th>\n",
       "      <th>total_amount</th>\n",
       "    </tr>\n",
       "  </thead>\n",
       "  <tbody>\n",
       "    <tr>\n",
       "      <th>0</th>\n",
       "      <td>161</td>\n",
       "      <td>2023-01-01</td>\n",
       "      <td>1</td>\n",
       "      <td>1</td>\n",
       "      <td>0</td>\n",
       "      <td>0.97</td>\n",
       "      <td>14.30</td>\n",
       "    </tr>\n",
       "    <tr>\n",
       "      <th>1</th>\n",
       "      <td>43</td>\n",
       "      <td>2023-01-01</td>\n",
       "      <td>1</td>\n",
       "      <td>1</td>\n",
       "      <td>0</td>\n",
       "      <td>1.10</td>\n",
       "      <td>16.90</td>\n",
       "    </tr>\n",
       "    <tr>\n",
       "      <th>2</th>\n",
       "      <td>48</td>\n",
       "      <td>2023-01-01</td>\n",
       "      <td>1</td>\n",
       "      <td>1</td>\n",
       "      <td>0</td>\n",
       "      <td>2.51</td>\n",
       "      <td>34.90</td>\n",
       "    </tr>\n",
       "    <tr>\n",
       "      <th>3</th>\n",
       "      <td>138</td>\n",
       "      <td>2023-01-01</td>\n",
       "      <td>1</td>\n",
       "      <td>1</td>\n",
       "      <td>0</td>\n",
       "      <td>1.90</td>\n",
       "      <td>20.85</td>\n",
       "    </tr>\n",
       "    <tr>\n",
       "      <th>4</th>\n",
       "      <td>107</td>\n",
       "      <td>2023-01-01</td>\n",
       "      <td>1</td>\n",
       "      <td>1</td>\n",
       "      <td>0</td>\n",
       "      <td>1.43</td>\n",
       "      <td>19.68</td>\n",
       "    </tr>\n",
       "  </tbody>\n",
       "</table>\n",
       "</div>"
      ],
      "text/plain": [
       "  PULocationID transaction_date  transaction_month  transaction_day  \\\n",
       "0          161       2023-01-01                  1                1   \n",
       "1           43       2023-01-01                  1                1   \n",
       "2           48       2023-01-01                  1                1   \n",
       "3          138       2023-01-01                  1                1   \n",
       "4          107       2023-01-01                  1                1   \n",
       "\n",
       "   transaction_hour  trip_distance  total_amount  \n",
       "0                 0           0.97         14.30  \n",
       "1                 0           1.10         16.90  \n",
       "2                 0           2.51         34.90  \n",
       "3                 0           1.90         20.85  \n",
       "4                 0           1.43         19.68  "
      ]
     },
     "execution_count": 37,
     "metadata": {},
     "output_type": "execute_result"
    }
   ],
   "source": [
    "main_taxi_df = taxi_data_prepared[all_needed_columns]\n",
    "print(main_taxi_df.shape)\n",
    "main_taxi_df.head()"
   ]
  },
  {
   "cell_type": "code",
   "execution_count": 38,
   "id": "1184ddcb",
   "metadata": {},
   "outputs": [
    {
     "name": "stdout",
     "output_type": "stream",
     "text": [
      "(71409, 8)\n"
     ]
    },
    {
     "data": {
      "text/html": [
       "<div>\n",
       "<style scoped>\n",
       "    .dataframe tbody tr th:only-of-type {\n",
       "        vertical-align: middle;\n",
       "    }\n",
       "\n",
       "    .dataframe tbody tr th {\n",
       "        vertical-align: top;\n",
       "    }\n",
       "\n",
       "    .dataframe thead th {\n",
       "        text-align: right;\n",
       "    }\n",
       "</style>\n",
       "<table border=\"1\" class=\"dataframe\">\n",
       "  <thead>\n",
       "    <tr style=\"text-align: right;\">\n",
       "      <th></th>\n",
       "      <th>PULocationID</th>\n",
       "      <th>transaction_date</th>\n",
       "      <th>transaction_month</th>\n",
       "      <th>transaction_day</th>\n",
       "      <th>transaction_hour</th>\n",
       "      <th>trip_distance</th>\n",
       "      <th>total_amount</th>\n",
       "      <th>count_of_transactions</th>\n",
       "    </tr>\n",
       "  </thead>\n",
       "  <tbody>\n",
       "    <tr>\n",
       "      <th>0</th>\n",
       "      <td>1</td>\n",
       "      <td>2023-01-01</td>\n",
       "      <td>1</td>\n",
       "      <td>1</td>\n",
       "      <td>5</td>\n",
       "      <td>0.0</td>\n",
       "      <td>118.1100</td>\n",
       "      <td>1</td>\n",
       "    </tr>\n",
       "    <tr>\n",
       "      <th>1</th>\n",
       "      <td>1</td>\n",
       "      <td>2023-01-01</td>\n",
       "      <td>1</td>\n",
       "      <td>1</td>\n",
       "      <td>8</td>\n",
       "      <td>0.0</td>\n",
       "      <td>100.0000</td>\n",
       "      <td>1</td>\n",
       "    </tr>\n",
       "    <tr>\n",
       "      <th>2</th>\n",
       "      <td>1</td>\n",
       "      <td>2023-01-01</td>\n",
       "      <td>1</td>\n",
       "      <td>1</td>\n",
       "      <td>11</td>\n",
       "      <td>0.0</td>\n",
       "      <td>115.2000</td>\n",
       "      <td>1</td>\n",
       "    </tr>\n",
       "    <tr>\n",
       "      <th>3</th>\n",
       "      <td>1</td>\n",
       "      <td>2023-01-01</td>\n",
       "      <td>1</td>\n",
       "      <td>1</td>\n",
       "      <td>12</td>\n",
       "      <td>0.0</td>\n",
       "      <td>148.3150</td>\n",
       "      <td>2</td>\n",
       "    </tr>\n",
       "    <tr>\n",
       "      <th>4</th>\n",
       "      <td>1</td>\n",
       "      <td>2023-01-01</td>\n",
       "      <td>1</td>\n",
       "      <td>1</td>\n",
       "      <td>13</td>\n",
       "      <td>8.0</td>\n",
       "      <td>146.0475</td>\n",
       "      <td>4</td>\n",
       "    </tr>\n",
       "  </tbody>\n",
       "</table>\n",
       "</div>"
      ],
      "text/plain": [
       "  PULocationID transaction_date  transaction_month  transaction_day  \\\n",
       "0            1       2023-01-01                  1                1   \n",
       "1            1       2023-01-01                  1                1   \n",
       "2            1       2023-01-01                  1                1   \n",
       "3            1       2023-01-01                  1                1   \n",
       "4            1       2023-01-01                  1                1   \n",
       "\n",
       "   transaction_hour  trip_distance  total_amount  count_of_transactions  \n",
       "0                 5            0.0      118.1100                      1  \n",
       "1                 8            0.0      100.0000                      1  \n",
       "2                11            0.0      115.2000                      1  \n",
       "3                12            0.0      148.3150                      2  \n",
       "4                13            8.0      146.0475                      4  "
      ]
     },
     "execution_count": 38,
     "metadata": {},
     "output_type": "execute_result"
    }
   ],
   "source": [
    "taxi_grouped_by_region= main_taxi_df.groupby(categorical_columns).mean().reset_index()\n",
    "taxi_grouped_by_region['count_of_transactions']=main_taxi_df.groupby(categorical_columns).count().reset_index()['total_amount']\n",
    "print(taxi_grouped_by_region.shape)\n",
    "taxi_grouped_by_region.head()"
   ]
  },
  {
   "cell_type": "markdown",
   "id": "9c7765ba",
   "metadata": {},
   "source": [
    "# benchmark model "
   ]
  },
  {
   "cell_type": "code",
   "execution_count": 39,
   "id": "5593b668",
   "metadata": {},
   "outputs": [
    {
     "data": {
      "text/html": [
       "<div>\n",
       "<style scoped>\n",
       "    .dataframe tbody tr th:only-of-type {\n",
       "        vertical-align: middle;\n",
       "    }\n",
       "\n",
       "    .dataframe tbody tr th {\n",
       "        vertical-align: top;\n",
       "    }\n",
       "\n",
       "    .dataframe thead th {\n",
       "        text-align: right;\n",
       "    }\n",
       "</style>\n",
       "<table border=\"1\" class=\"dataframe\">\n",
       "  <thead>\n",
       "    <tr style=\"text-align: right;\">\n",
       "      <th></th>\n",
       "      <th>PULocationID</th>\n",
       "      <th>transaction_date</th>\n",
       "      <th>transaction_month</th>\n",
       "      <th>transaction_day</th>\n",
       "      <th>transaction_hour</th>\n",
       "      <th>trip_distance</th>\n",
       "      <th>total_amount</th>\n",
       "      <th>count_of_transactions</th>\n",
       "    </tr>\n",
       "  </thead>\n",
       "  <tbody>\n",
       "    <tr>\n",
       "      <th>0</th>\n",
       "      <td>1</td>\n",
       "      <td>2023-01-01</td>\n",
       "      <td>1</td>\n",
       "      <td>1</td>\n",
       "      <td>5</td>\n",
       "      <td>0.0</td>\n",
       "      <td>118.1100</td>\n",
       "      <td>1</td>\n",
       "    </tr>\n",
       "    <tr>\n",
       "      <th>1</th>\n",
       "      <td>1</td>\n",
       "      <td>2023-01-01</td>\n",
       "      <td>1</td>\n",
       "      <td>1</td>\n",
       "      <td>8</td>\n",
       "      <td>0.0</td>\n",
       "      <td>100.0000</td>\n",
       "      <td>1</td>\n",
       "    </tr>\n",
       "    <tr>\n",
       "      <th>2</th>\n",
       "      <td>1</td>\n",
       "      <td>2023-01-01</td>\n",
       "      <td>1</td>\n",
       "      <td>1</td>\n",
       "      <td>11</td>\n",
       "      <td>0.0</td>\n",
       "      <td>115.2000</td>\n",
       "      <td>1</td>\n",
       "    </tr>\n",
       "    <tr>\n",
       "      <th>3</th>\n",
       "      <td>1</td>\n",
       "      <td>2023-01-01</td>\n",
       "      <td>1</td>\n",
       "      <td>1</td>\n",
       "      <td>12</td>\n",
       "      <td>0.0</td>\n",
       "      <td>148.3150</td>\n",
       "      <td>2</td>\n",
       "    </tr>\n",
       "    <tr>\n",
       "      <th>4</th>\n",
       "      <td>1</td>\n",
       "      <td>2023-01-01</td>\n",
       "      <td>1</td>\n",
       "      <td>1</td>\n",
       "      <td>13</td>\n",
       "      <td>8.0</td>\n",
       "      <td>146.0475</td>\n",
       "      <td>4</td>\n",
       "    </tr>\n",
       "  </tbody>\n",
       "</table>\n",
       "</div>"
      ],
      "text/plain": [
       "  PULocationID transaction_date  transaction_month  transaction_day  \\\n",
       "0            1       2023-01-01                  1                1   \n",
       "1            1       2023-01-01                  1                1   \n",
       "2            1       2023-01-01                  1                1   \n",
       "3            1       2023-01-01                  1                1   \n",
       "4            1       2023-01-01                  1                1   \n",
       "\n",
       "   transaction_hour  trip_distance  total_amount  count_of_transactions  \n",
       "0                 5            0.0      118.1100                      1  \n",
       "1                 8            0.0      100.0000                      1  \n",
       "2                11            0.0      115.2000                      1  \n",
       "3                12            0.0      148.3150                      2  \n",
       "4                13            8.0      146.0475                      4  "
      ]
     },
     "execution_count": 39,
     "metadata": {},
     "output_type": "execute_result"
    }
   ],
   "source": [
    "data_benchmark_model= taxi_grouped_by_region.copy()\n",
    "data_benchmark_model.head()"
   ]
  },
  {
   "cell_type": "code",
   "execution_count": 40,
   "id": "ca9e73ec",
   "metadata": {},
   "outputs": [],
   "source": [
    "catig_feat_benchmark=['PULocationID','transaction_month', 'transaction_day', 'transaction_hour']\n",
    "input_feat_benchmark= catig_feat_benchmark \n",
    "target_feat_benchmark='total_amount'"
   ]
  },
  {
   "cell_type": "markdown",
   "id": "3faaf44e",
   "metadata": {},
   "source": [
    "# train test split\n"
   ]
  },
  {
   "cell_type": "code",
   "execution_count": 41,
   "id": "fd940f0e",
   "metadata": {},
   "outputs": [],
   "source": [
    "from sklearn.model_selection import train_test_split\n",
    "\n",
    "x_bench=data_benchmark_model[input_feat_benchmark]\n",
    "y_bench=data_benchmark_model[target_feat_benchmark]\n",
    "\n",
    "x_bench = pd.get_dummies(x_bench)\n",
    "\n",
    "x_train_b,x_test_b,y_train_b,y_test_b=train_test_split(x_bench,y_bench,test_size=.3,random_state=12)"
   ]
  },
  {
   "cell_type": "markdown",
   "id": "98da5693",
   "metadata": {},
   "source": [
    "# fit_model "
   ]
  },
  {
   "cell_type": "code",
   "execution_count": 42,
   "id": "b32b6f7b",
   "metadata": {},
   "outputs": [
    {
     "data": {
      "text/plain": [
       "DecisionTreeRegressor(max_depth=10)"
      ]
     },
     "execution_count": 42,
     "metadata": {},
     "output_type": "execute_result"
    }
   ],
   "source": [
    "from sklearn.tree import DecisionTreeRegressor\n",
    "tree= DecisionTreeRegressor(max_depth=10)\n",
    "tree.fit(x_train_b,y_train_b)"
   ]
  },
  {
   "cell_type": "markdown",
   "id": "00b4b7f5",
   "metadata": {},
   "source": [
    "# model_evaluation "
   ]
  },
  {
   "cell_type": "code",
   "execution_count": 43,
   "id": "8aceec40",
   "metadata": {},
   "outputs": [],
   "source": [
    "y_pred_b=tree.predict(x_test_b)"
   ]
  },
  {
   "cell_type": "code",
   "execution_count": 44,
   "id": "40b95bed",
   "metadata": {},
   "outputs": [
    {
     "name": "stdout",
     "output_type": "stream",
     "text": [
      "mean_absolute_error:  11.722960303076228\n",
      "mean_squerd_error:  311.62751659352523\n",
      "root_mean_squerd_error:  17.65297472364149\n",
      "r2:  0.27830056872007847\n"
     ]
    }
   ],
   "source": [
    "from sklearn.metrics import mean_absolute_error,mean_squared_error,r2_score\n",
    "from math import sqrt\n",
    "\n",
    "print('mean_absolute_error: ',mean_absolute_error(y_test_b,y_pred_b))\n",
    "print('mean_squerd_error: ' ,mean_squared_error(y_test_b,y_pred_b))\n",
    "print('root_mean_squerd_error: ' , sqrt(mean_squared_error(y_test_b,y_pred_b)))\n",
    "print('r2: ' ,r2_score(y_test_b,y_pred_b))"
   ]
  },
  {
   "cell_type": "markdown",
   "id": "5cc9613d",
   "metadata": {},
   "source": [
    "# feature_Engineering"
   ]
  },
  {
   "cell_type": "code",
   "execution_count": 45,
   "id": "e65fc5a1",
   "metadata": {},
   "outputs": [
    {
     "data": {
      "text/html": [
       "<div>\n",
       "<style scoped>\n",
       "    .dataframe tbody tr th:only-of-type {\n",
       "        vertical-align: middle;\n",
       "    }\n",
       "\n",
       "    .dataframe tbody tr th {\n",
       "        vertical-align: top;\n",
       "    }\n",
       "\n",
       "    .dataframe thead th {\n",
       "        text-align: right;\n",
       "    }\n",
       "</style>\n",
       "<table border=\"1\" class=\"dataframe\">\n",
       "  <thead>\n",
       "    <tr style=\"text-align: right;\">\n",
       "      <th></th>\n",
       "      <th>PULocationID</th>\n",
       "      <th>transaction_date</th>\n",
       "      <th>transaction_month</th>\n",
       "      <th>transaction_day</th>\n",
       "      <th>transaction_hour</th>\n",
       "      <th>trip_distance</th>\n",
       "      <th>total_amount</th>\n",
       "      <th>count_of_transactions</th>\n",
       "    </tr>\n",
       "  </thead>\n",
       "  <tbody>\n",
       "    <tr>\n",
       "      <th>0</th>\n",
       "      <td>1</td>\n",
       "      <td>2023-01-01</td>\n",
       "      <td>1</td>\n",
       "      <td>1</td>\n",
       "      <td>5</td>\n",
       "      <td>0.0</td>\n",
       "      <td>118.1100</td>\n",
       "      <td>1</td>\n",
       "    </tr>\n",
       "    <tr>\n",
       "      <th>1</th>\n",
       "      <td>1</td>\n",
       "      <td>2023-01-01</td>\n",
       "      <td>1</td>\n",
       "      <td>1</td>\n",
       "      <td>8</td>\n",
       "      <td>0.0</td>\n",
       "      <td>100.0000</td>\n",
       "      <td>1</td>\n",
       "    </tr>\n",
       "    <tr>\n",
       "      <th>2</th>\n",
       "      <td>1</td>\n",
       "      <td>2023-01-01</td>\n",
       "      <td>1</td>\n",
       "      <td>1</td>\n",
       "      <td>11</td>\n",
       "      <td>0.0</td>\n",
       "      <td>115.2000</td>\n",
       "      <td>1</td>\n",
       "    </tr>\n",
       "    <tr>\n",
       "      <th>3</th>\n",
       "      <td>1</td>\n",
       "      <td>2023-01-01</td>\n",
       "      <td>1</td>\n",
       "      <td>1</td>\n",
       "      <td>12</td>\n",
       "      <td>0.0</td>\n",
       "      <td>148.3150</td>\n",
       "      <td>2</td>\n",
       "    </tr>\n",
       "    <tr>\n",
       "      <th>4</th>\n",
       "      <td>1</td>\n",
       "      <td>2023-01-01</td>\n",
       "      <td>1</td>\n",
       "      <td>1</td>\n",
       "      <td>13</td>\n",
       "      <td>8.0</td>\n",
       "      <td>146.0475</td>\n",
       "      <td>4</td>\n",
       "    </tr>\n",
       "  </tbody>\n",
       "</table>\n",
       "</div>"
      ],
      "text/plain": [
       "  PULocationID transaction_date  transaction_month  transaction_day  \\\n",
       "0            1       2023-01-01                  1                1   \n",
       "1            1       2023-01-01                  1                1   \n",
       "2            1       2023-01-01                  1                1   \n",
       "3            1       2023-01-01                  1                1   \n",
       "4            1       2023-01-01                  1                1   \n",
       "\n",
       "   transaction_hour  trip_distance  total_amount  count_of_transactions  \n",
       "0                 5            0.0      118.1100                      1  \n",
       "1                 8            0.0      100.0000                      1  \n",
       "2                11            0.0      115.2000                      1  \n",
       "3                12            0.0      148.3150                      2  \n",
       "4                13            8.0      146.0475                      4  "
      ]
     },
     "execution_count": 45,
     "metadata": {},
     "output_type": "execute_result"
    }
   ],
   "source": [
    "data_with_new_feat = taxi_grouped_by_region.copy()\n",
    "data_with_new_feat.head()"
   ]
  },
  {
   "cell_type": "markdown",
   "id": "e9912209",
   "metadata": {},
   "source": [
    "## related Data"
   ]
  },
  {
   "cell_type": "code",
   "execution_count": 46,
   "id": "5629d85c",
   "metadata": {},
   "outputs": [],
   "source": [
    "data_with_new_feat['transaction_week_day']=data_with_new_feat['transaction_date'].dt.weekday\n",
    "data_with_new_feat['is_weekend']=data_with_new_feat['transaction_week_day'].apply(lambda x: True if x == 5 or x == 6 else False)\n",
    "\n",
    "\n"
   ]
  },
  {
   "cell_type": "code",
   "execution_count": 47,
   "id": "9bb7212d",
   "metadata": {},
   "outputs": [
    {
     "data": {
      "text/html": [
       "<div>\n",
       "<style scoped>\n",
       "    .dataframe tbody tr th:only-of-type {\n",
       "        vertical-align: middle;\n",
       "    }\n",
       "\n",
       "    .dataframe tbody tr th {\n",
       "        vertical-align: top;\n",
       "    }\n",
       "\n",
       "    .dataframe thead th {\n",
       "        text-align: right;\n",
       "    }\n",
       "</style>\n",
       "<table border=\"1\" class=\"dataframe\">\n",
       "  <thead>\n",
       "    <tr style=\"text-align: right;\">\n",
       "      <th></th>\n",
       "      <th>PULocationID</th>\n",
       "      <th>transaction_date</th>\n",
       "      <th>transaction_month</th>\n",
       "      <th>transaction_day</th>\n",
       "      <th>transaction_hour</th>\n",
       "      <th>trip_distance</th>\n",
       "      <th>total_amount</th>\n",
       "      <th>count_of_transactions</th>\n",
       "      <th>transaction_week_day</th>\n",
       "      <th>is_weekend</th>\n",
       "      <th>is_holiday</th>\n",
       "    </tr>\n",
       "  </thead>\n",
       "  <tbody>\n",
       "    <tr>\n",
       "      <th>0</th>\n",
       "      <td>1</td>\n",
       "      <td>2023-01-01</td>\n",
       "      <td>1</td>\n",
       "      <td>1</td>\n",
       "      <td>5</td>\n",
       "      <td>0.0</td>\n",
       "      <td>118.1100</td>\n",
       "      <td>1</td>\n",
       "      <td>6</td>\n",
       "      <td>True</td>\n",
       "      <td>False</td>\n",
       "    </tr>\n",
       "    <tr>\n",
       "      <th>1</th>\n",
       "      <td>1</td>\n",
       "      <td>2023-01-01</td>\n",
       "      <td>1</td>\n",
       "      <td>1</td>\n",
       "      <td>8</td>\n",
       "      <td>0.0</td>\n",
       "      <td>100.0000</td>\n",
       "      <td>1</td>\n",
       "      <td>6</td>\n",
       "      <td>True</td>\n",
       "      <td>False</td>\n",
       "    </tr>\n",
       "    <tr>\n",
       "      <th>2</th>\n",
       "      <td>1</td>\n",
       "      <td>2023-01-01</td>\n",
       "      <td>1</td>\n",
       "      <td>1</td>\n",
       "      <td>11</td>\n",
       "      <td>0.0</td>\n",
       "      <td>115.2000</td>\n",
       "      <td>1</td>\n",
       "      <td>6</td>\n",
       "      <td>True</td>\n",
       "      <td>False</td>\n",
       "    </tr>\n",
       "    <tr>\n",
       "      <th>3</th>\n",
       "      <td>1</td>\n",
       "      <td>2023-01-01</td>\n",
       "      <td>1</td>\n",
       "      <td>1</td>\n",
       "      <td>12</td>\n",
       "      <td>0.0</td>\n",
       "      <td>148.3150</td>\n",
       "      <td>2</td>\n",
       "      <td>6</td>\n",
       "      <td>True</td>\n",
       "      <td>False</td>\n",
       "    </tr>\n",
       "    <tr>\n",
       "      <th>4</th>\n",
       "      <td>1</td>\n",
       "      <td>2023-01-01</td>\n",
       "      <td>1</td>\n",
       "      <td>1</td>\n",
       "      <td>13</td>\n",
       "      <td>8.0</td>\n",
       "      <td>146.0475</td>\n",
       "      <td>4</td>\n",
       "      <td>6</td>\n",
       "      <td>True</td>\n",
       "      <td>False</td>\n",
       "    </tr>\n",
       "  </tbody>\n",
       "</table>\n",
       "</div>"
      ],
      "text/plain": [
       "  PULocationID transaction_date  transaction_month  transaction_day  \\\n",
       "0            1       2023-01-01                  1                1   \n",
       "1            1       2023-01-01                  1                1   \n",
       "2            1       2023-01-01                  1                1   \n",
       "3            1       2023-01-01                  1                1   \n",
       "4            1       2023-01-01                  1                1   \n",
       "\n",
       "   transaction_hour  trip_distance  total_amount  count_of_transactions  \\\n",
       "0                 5            0.0      118.1100                      1   \n",
       "1                 8            0.0      100.0000                      1   \n",
       "2                11            0.0      115.2000                      1   \n",
       "3                12            0.0      148.3150                      2   \n",
       "4                13            8.0      146.0475                      4   \n",
       "\n",
       "   transaction_week_day  is_weekend  is_holiday  \n",
       "0                     6        True       False  \n",
       "1                     6        True       False  \n",
       "2                     6        True       False  \n",
       "3                     6        True       False  \n",
       "4                     6        True       False  "
      ]
     },
     "execution_count": 47,
     "metadata": {},
     "output_type": "execute_result"
    }
   ],
   "source": [
    "from pandas.tseries.holiday import USFederalHolidayCalendar\n",
    "\n",
    "cal=USFederalHolidayCalendar()\n",
    "holidays= cal.holidays(start='2022',end='2024').date\n",
    "data_with_new_feat['is_holiday']=data_with_new_feat['transaction_date'].isin(holidays)\n",
    "\n",
    "data_with_new_feat.head()\n"
   ]
  },
  {
   "cell_type": "markdown",
   "id": "6208f02b",
   "metadata": {},
   "source": [
    "\n",
    "# borough Related"
   ]
  },
  {
   "cell_type": "code",
   "execution_count": 48,
   "id": "f74f8d06",
   "metadata": {},
   "outputs": [
    {
     "data": {
      "text/html": [
       "<div>\n",
       "<style scoped>\n",
       "    .dataframe tbody tr th:only-of-type {\n",
       "        vertical-align: middle;\n",
       "    }\n",
       "\n",
       "    .dataframe tbody tr th {\n",
       "        vertical-align: top;\n",
       "    }\n",
       "\n",
       "    .dataframe thead th {\n",
       "        text-align: right;\n",
       "    }\n",
       "</style>\n",
       "<table border=\"1\" class=\"dataframe\">\n",
       "  <thead>\n",
       "    <tr style=\"text-align: right;\">\n",
       "      <th></th>\n",
       "      <th>LocationID</th>\n",
       "      <th>Borough</th>\n",
       "    </tr>\n",
       "  </thead>\n",
       "  <tbody>\n",
       "    <tr>\n",
       "      <th>0</th>\n",
       "      <td>1</td>\n",
       "      <td>EWR</td>\n",
       "    </tr>\n",
       "    <tr>\n",
       "      <th>1</th>\n",
       "      <td>2</td>\n",
       "      <td>Queens</td>\n",
       "    </tr>\n",
       "    <tr>\n",
       "      <th>2</th>\n",
       "      <td>3</td>\n",
       "      <td>Bronx</td>\n",
       "    </tr>\n",
       "    <tr>\n",
       "      <th>3</th>\n",
       "      <td>4</td>\n",
       "      <td>Manhattan</td>\n",
       "    </tr>\n",
       "    <tr>\n",
       "      <th>4</th>\n",
       "      <td>5</td>\n",
       "      <td>Staten Island</td>\n",
       "    </tr>\n",
       "  </tbody>\n",
       "</table>\n",
       "</div>"
      ],
      "text/plain": [
       "  LocationID        Borough\n",
       "0          1            EWR\n",
       "1          2         Queens\n",
       "2          3          Bronx\n",
       "3          4      Manhattan\n",
       "4          5  Staten Island"
      ]
     },
     "execution_count": 48,
     "metadata": {},
     "output_type": "execute_result"
    }
   ],
   "source": [
    "zone_lookup= pd.read_csv('Data/taxi_zone_lookup.csv')\n",
    "zone_lookup= zone_lookup[['LocationID','Borough']]\n",
    "zone_lookup['LocationID']= zone_lookup['LocationID'].astype(str)\n",
    "zone_lookup.head()\n"
   ]
  },
  {
   "cell_type": "code",
   "execution_count": 49,
   "id": "9322e3f5",
   "metadata": {},
   "outputs": [
    {
     "data": {
      "text/html": [
       "<div>\n",
       "<style scoped>\n",
       "    .dataframe tbody tr th:only-of-type {\n",
       "        vertical-align: middle;\n",
       "    }\n",
       "\n",
       "    .dataframe tbody tr th {\n",
       "        vertical-align: top;\n",
       "    }\n",
       "\n",
       "    .dataframe thead th {\n",
       "        text-align: right;\n",
       "    }\n",
       "</style>\n",
       "<table border=\"1\" class=\"dataframe\">\n",
       "  <thead>\n",
       "    <tr style=\"text-align: right;\">\n",
       "      <th></th>\n",
       "      <th>PULocationID</th>\n",
       "      <th>transaction_date</th>\n",
       "      <th>transaction_month</th>\n",
       "      <th>transaction_day</th>\n",
       "      <th>transaction_hour</th>\n",
       "      <th>trip_distance</th>\n",
       "      <th>total_amount</th>\n",
       "      <th>count_of_transactions</th>\n",
       "      <th>transaction_week_day</th>\n",
       "      <th>is_weekend</th>\n",
       "      <th>is_holiday</th>\n",
       "      <th>Borough</th>\n",
       "    </tr>\n",
       "  </thead>\n",
       "  <tbody>\n",
       "    <tr>\n",
       "      <th>0</th>\n",
       "      <td>1</td>\n",
       "      <td>2023-01-01</td>\n",
       "      <td>1</td>\n",
       "      <td>1</td>\n",
       "      <td>5</td>\n",
       "      <td>0.0</td>\n",
       "      <td>118.1100</td>\n",
       "      <td>1</td>\n",
       "      <td>6</td>\n",
       "      <td>True</td>\n",
       "      <td>False</td>\n",
       "      <td>EWR</td>\n",
       "    </tr>\n",
       "    <tr>\n",
       "      <th>1</th>\n",
       "      <td>1</td>\n",
       "      <td>2023-01-01</td>\n",
       "      <td>1</td>\n",
       "      <td>1</td>\n",
       "      <td>8</td>\n",
       "      <td>0.0</td>\n",
       "      <td>100.0000</td>\n",
       "      <td>1</td>\n",
       "      <td>6</td>\n",
       "      <td>True</td>\n",
       "      <td>False</td>\n",
       "      <td>EWR</td>\n",
       "    </tr>\n",
       "    <tr>\n",
       "      <th>2</th>\n",
       "      <td>1</td>\n",
       "      <td>2023-01-01</td>\n",
       "      <td>1</td>\n",
       "      <td>1</td>\n",
       "      <td>11</td>\n",
       "      <td>0.0</td>\n",
       "      <td>115.2000</td>\n",
       "      <td>1</td>\n",
       "      <td>6</td>\n",
       "      <td>True</td>\n",
       "      <td>False</td>\n",
       "      <td>EWR</td>\n",
       "    </tr>\n",
       "    <tr>\n",
       "      <th>3</th>\n",
       "      <td>1</td>\n",
       "      <td>2023-01-01</td>\n",
       "      <td>1</td>\n",
       "      <td>1</td>\n",
       "      <td>12</td>\n",
       "      <td>0.0</td>\n",
       "      <td>148.3150</td>\n",
       "      <td>2</td>\n",
       "      <td>6</td>\n",
       "      <td>True</td>\n",
       "      <td>False</td>\n",
       "      <td>EWR</td>\n",
       "    </tr>\n",
       "    <tr>\n",
       "      <th>4</th>\n",
       "      <td>1</td>\n",
       "      <td>2023-01-01</td>\n",
       "      <td>1</td>\n",
       "      <td>1</td>\n",
       "      <td>13</td>\n",
       "      <td>8.0</td>\n",
       "      <td>146.0475</td>\n",
       "      <td>4</td>\n",
       "      <td>6</td>\n",
       "      <td>True</td>\n",
       "      <td>False</td>\n",
       "      <td>EWR</td>\n",
       "    </tr>\n",
       "  </tbody>\n",
       "</table>\n",
       "</div>"
      ],
      "text/plain": [
       "  PULocationID transaction_date  transaction_month  transaction_day  \\\n",
       "0            1       2023-01-01                  1                1   \n",
       "1            1       2023-01-01                  1                1   \n",
       "2            1       2023-01-01                  1                1   \n",
       "3            1       2023-01-01                  1                1   \n",
       "4            1       2023-01-01                  1                1   \n",
       "\n",
       "   transaction_hour  trip_distance  total_amount  count_of_transactions  \\\n",
       "0                 5            0.0      118.1100                      1   \n",
       "1                 8            0.0      100.0000                      1   \n",
       "2                11            0.0      115.2000                      1   \n",
       "3                12            0.0      148.3150                      2   \n",
       "4                13            8.0      146.0475                      4   \n",
       "\n",
       "   transaction_week_day  is_weekend  is_holiday Borough  \n",
       "0                     6        True       False     EWR  \n",
       "1                     6        True       False     EWR  \n",
       "2                     6        True       False     EWR  \n",
       "3                     6        True       False     EWR  \n",
       "4                     6        True       False     EWR  "
      ]
     },
     "execution_count": 49,
     "metadata": {},
     "output_type": "execute_result"
    }
   ],
   "source": [
    "data_with_new_feat = data_with_new_feat.merge(zone_lookup, left_on='PULocationID', right_on='LocationID', how='left')\n",
    "data_with_new_feat.drop('LocationID',axis=1,inplace=True)\n",
    "data_with_new_feat.head()\n",
    "\n"
   ]
  },
  {
   "cell_type": "code",
   "execution_count": 50,
   "id": "55870fe8",
   "metadata": {},
   "outputs": [
    {
     "data": {
      "text/plain": [
       "Manhattan        42234\n",
       "Queens           13643\n",
       "Brooklyn         10253\n",
       "Bronx             3436\n",
       "Unknown            738\n",
       "Staten Island      320\n",
       "EWR                221\n",
       "Name: Borough, dtype: int64"
      ]
     },
     "execution_count": 50,
     "metadata": {},
     "output_type": "execute_result"
    }
   ],
   "source": [
    "data_with_new_feat['Borough'].value_counts()"
   ]
  },
  {
   "cell_type": "markdown",
   "id": "10625112",
   "metadata": {},
   "source": [
    "## Weather related"
   ]
  },
  {
   "cell_type": "code",
   "execution_count": 51,
   "id": "facaa248",
   "metadata": {
    "scrolled": true
   },
   "outputs": [
    {
     "data": {
      "text/html": [
       "<div>\n",
       "<style scoped>\n",
       "    .dataframe tbody tr th:only-of-type {\n",
       "        vertical-align: middle;\n",
       "    }\n",
       "\n",
       "    .dataframe tbody tr th {\n",
       "        vertical-align: top;\n",
       "    }\n",
       "\n",
       "    .dataframe thead th {\n",
       "        text-align: right;\n",
       "    }\n",
       "</style>\n",
       "<table border=\"1\" class=\"dataframe\">\n",
       "  <thead>\n",
       "    <tr style=\"text-align: right;\">\n",
       "      <th></th>\n",
       "      <th>date and time</th>\n",
       "      <th>temperature</th>\n",
       "      <th>humidity</th>\n",
       "      <th>wind speed</th>\n",
       "      <th>cloud cover</th>\n",
       "      <th>amount of precipitation</th>\n",
       "    </tr>\n",
       "  </thead>\n",
       "  <tbody>\n",
       "    <tr>\n",
       "      <th>0</th>\n",
       "      <td>31.12.2019 22:00</td>\n",
       "      <td>6.1</td>\n",
       "      <td>65</td>\n",
       "      <td>6</td>\n",
       "      <td>100%.</td>\n",
       "      <td>0.3</td>\n",
       "    </tr>\n",
       "    <tr>\n",
       "      <th>1</th>\n",
       "      <td>31.12.2019 19:00</td>\n",
       "      <td>6.7</td>\n",
       "      <td>71</td>\n",
       "      <td>5</td>\n",
       "      <td>70 – 80%.</td>\n",
       "      <td>NaN</td>\n",
       "    </tr>\n",
       "    <tr>\n",
       "      <th>2</th>\n",
       "      <td>31.12.2019 16:00</td>\n",
       "      <td>7.2</td>\n",
       "      <td>66</td>\n",
       "      <td>5</td>\n",
       "      <td>50%.</td>\n",
       "      <td>NaN</td>\n",
       "    </tr>\n",
       "    <tr>\n",
       "      <th>3</th>\n",
       "      <td>31.12.2019 13:00</td>\n",
       "      <td>6.1</td>\n",
       "      <td>76</td>\n",
       "      <td>3</td>\n",
       "      <td>100%.</td>\n",
       "      <td>Trace of precipitation</td>\n",
       "    </tr>\n",
       "    <tr>\n",
       "      <th>4</th>\n",
       "      <td>31.12.2019 10:00</td>\n",
       "      <td>4.4</td>\n",
       "      <td>83</td>\n",
       "      <td>2</td>\n",
       "      <td>100%.</td>\n",
       "      <td>Trace of precipitation</td>\n",
       "    </tr>\n",
       "  </tbody>\n",
       "</table>\n",
       "</div>"
      ],
      "text/plain": [
       "      date and time  temperature  humidity  wind speed cloud cover  \\\n",
       "0  31.12.2019 22:00          6.1        65           6       100%.   \n",
       "1  31.12.2019 19:00          6.7        71           5   70 – 80%.   \n",
       "2  31.12.2019 16:00          7.2        66           5        50%.   \n",
       "3  31.12.2019 13:00          6.1        76           3       100%.   \n",
       "4  31.12.2019 10:00          4.4        83           2       100%.   \n",
       "\n",
       "  amount of precipitation  \n",
       "0                     0.3  \n",
       "1                     NaN  \n",
       "2                     NaN  \n",
       "3  Trace of precipitation  \n",
       "4  Trace of precipitation  "
      ]
     },
     "execution_count": 51,
     "metadata": {},
     "output_type": "execute_result"
    }
   ],
   "source": [
    "nyc_weather= pd.read_csv('Data/nyc_weather.csv')\n",
    "nyc_weather.head()"
   ]
  },
  {
   "cell_type": "code",
   "execution_count": 52,
   "id": "412db5bb",
   "metadata": {},
   "outputs": [
    {
     "data": {
      "text/plain": [
       "date and time               object\n",
       "temperature                float64\n",
       "humidity                     int64\n",
       "wind speed                   int64\n",
       "cloud cover                 object\n",
       "amount of precipitation     object\n",
       "dtype: object"
      ]
     },
     "execution_count": 52,
     "metadata": {},
     "output_type": "execute_result"
    }
   ],
   "source": [
    "nyc_weather.dtypes"
   ]
  },
  {
   "cell_type": "code",
   "execution_count": 53,
   "id": "f9d0da4e",
   "metadata": {},
   "outputs": [
    {
     "data": {
      "text/plain": [
       "(2936, 6)"
      ]
     },
     "execution_count": 53,
     "metadata": {},
     "output_type": "execute_result"
    }
   ],
   "source": [
    "nyc_weather.shape"
   ]
  },
  {
   "cell_type": "code",
   "execution_count": 54,
   "id": "ff7a1ccd",
   "metadata": {},
   "outputs": [
    {
     "data": {
      "text/plain": [
       "70 – 80%.                                                     973\n",
       "100%.                                                         896\n",
       "20–30%.                                                       479\n",
       "50%.                                                          413\n",
       "no clouds                                                     168\n",
       "Sky obscured by fog and/or other meteorological phenomena.      3\n",
       "Name: cloud cover, dtype: int64"
      ]
     },
     "execution_count": 54,
     "metadata": {},
     "output_type": "execute_result"
    }
   ],
   "source": [
    "nyc_weather['cloud cover'].value_counts()"
   ]
  },
  {
   "cell_type": "code",
   "execution_count": 55,
   "id": "c7098475",
   "metadata": {},
   "outputs": [
    {
     "data": {
      "text/plain": [
       "Trace of precipitation    266\n",
       "0.3                        61\n",
       "2.0                        49\n",
       "1.0                        45\n",
       "0.5                        42\n",
       "0.8                        42\n",
       "4.0                        33\n",
       "5.0                        24\n",
       "3.0                        23\n",
       "6.0                        19\n",
       "7.0                        13\n",
       "8.0                        13\n",
       "9.0                        11\n",
       "10.0                       10\n",
       "13.0                        7\n",
       "12.0                        7\n",
       "15.0                        6\n",
       "11.0                        5\n",
       "16.0                        3\n",
       "22.0                        2\n",
       "14.0                        2\n",
       "29.0                        2\n",
       "63.0                        1\n",
       "21.0                        1\n",
       "68.0                        1\n",
       "17.0                        1\n",
       "20.0                        1\n",
       "30.0                        1\n",
       "35.0                        1\n",
       "34.0                        1\n",
       "24.0                        1\n",
       "18.0                        1\n",
       "25.0                        1\n",
       "Name: amount of precipitation, dtype: int64"
      ]
     },
     "execution_count": 55,
     "metadata": {},
     "output_type": "execute_result"
    }
   ],
   "source": [
    "nyc_weather['amount of precipitation'].value_counts()\n",
    "\n"
   ]
  },
  {
   "cell_type": "code",
   "execution_count": 56,
   "id": "df55b4db",
   "metadata": {},
   "outputs": [
    {
     "data": {
      "text/plain": [
       "date and time                 0\n",
       "temperature                   0\n",
       "humidity                      0\n",
       "wind speed                    0\n",
       "cloud cover                   4\n",
       "amount of precipitation    2240\n",
       "dtype: int64"
      ]
     },
     "execution_count": 56,
     "metadata": {},
     "output_type": "execute_result"
    }
   ],
   "source": [
    "nyc_weather.isnull().sum()"
   ]
  },
  {
   "cell_type": "code",
   "execution_count": 57,
   "id": "acfb2272",
   "metadata": {},
   "outputs": [],
   "source": [
    "nyc_weather['amount of precipitation']=nyc_weather['amount of precipitation'].replace('Trace of precipitation',0.1)\n",
    "nyc_weather['amount of precipitation']=nyc_weather['amount of precipitation'].astype(float)\n",
    "\n",
    "nyc_weather['amount of precipitation'].interpolate(inplace=True)\n",
    "\n"
   ]
  },
  {
   "cell_type": "code",
   "execution_count": 58,
   "id": "00b3be82",
   "metadata": {},
   "outputs": [],
   "source": [
    "nyc_weather['cloud cover'] = nyc_weather['cloud cover'].replace('70 – 80%.', 0.7)\n",
    "nyc_weather['cloud cover'] = nyc_weather['cloud cover'].replace('100%.', 1)\n",
    "nyc_weather['cloud cover'] = nyc_weather['cloud cover'].replace('20–30%.', 0.3)\n",
    "nyc_weather['cloud cover'] = nyc_weather['cloud cover'].replace('50%.', 0.5)\n",
    "nyc_weather['cloud cover'] = nyc_weather['cloud cover'].replace('no clouds', 0)\n",
    "nyc_weather['cloud cover'] = nyc_weather['cloud cover'].replace('Sky obscured by fog and/or other meteorological phenomena.', 1)\n",
    "nyc_weather['cloud cover'] = nyc_weather['cloud cover'].astype(float)\n",
    "nyc_weather['cloud cover'].interpolate(inplace=True)"
   ]
  },
  {
   "cell_type": "code",
   "execution_count": 59,
   "id": "83667c49",
   "metadata": {},
   "outputs": [
    {
     "data": {
      "text/plain": [
       "date and time               object\n",
       "temperature                float64\n",
       "humidity                     int64\n",
       "wind speed                   int64\n",
       "cloud cover                float64\n",
       "amount of precipitation    float64\n",
       "dtype: object"
      ]
     },
     "execution_count": 59,
     "metadata": {},
     "output_type": "execute_result"
    }
   ],
   "source": [
    "nyc_weather.dtypes"
   ]
  },
  {
   "cell_type": "code",
   "execution_count": 60,
   "id": "de3bead8",
   "metadata": {},
   "outputs": [],
   "source": [
    "nyc_weather.loc[:,'date and time']= pd.to_datetime(nyc_weather.loc[:,'date and time'])\n",
    "nyc_weather['hour'] = nyc_weather['date and time'].dt.hour\n",
    "nyc_weather['month'] = nyc_weather['date and time'].dt.month\n",
    "nyc_weather['day'] = nyc_weather['date and time'].dt.day"
   ]
  },
  {
   "cell_type": "code",
   "execution_count": 61,
   "id": "062b6bde",
   "metadata": {},
   "outputs": [
    {
     "data": {
      "text/html": [
       "<div>\n",
       "<style scoped>\n",
       "    .dataframe tbody tr th:only-of-type {\n",
       "        vertical-align: middle;\n",
       "    }\n",
       "\n",
       "    .dataframe tbody tr th {\n",
       "        vertical-align: top;\n",
       "    }\n",
       "\n",
       "    .dataframe thead th {\n",
       "        text-align: right;\n",
       "    }\n",
       "</style>\n",
       "<table border=\"1\" class=\"dataframe\">\n",
       "  <thead>\n",
       "    <tr style=\"text-align: right;\">\n",
       "      <th></th>\n",
       "      <th>PULocationID</th>\n",
       "      <th>transaction_date</th>\n",
       "      <th>transaction_month</th>\n",
       "      <th>transaction_day</th>\n",
       "      <th>transaction_hour</th>\n",
       "      <th>trip_distance</th>\n",
       "      <th>total_amount</th>\n",
       "      <th>count_of_transactions</th>\n",
       "      <th>transaction_week_day</th>\n",
       "      <th>is_weekend</th>\n",
       "      <th>...</th>\n",
       "      <th>Borough</th>\n",
       "      <th>date and time</th>\n",
       "      <th>temperature</th>\n",
       "      <th>humidity</th>\n",
       "      <th>wind speed</th>\n",
       "      <th>cloud cover</th>\n",
       "      <th>amount of precipitation</th>\n",
       "      <th>hour</th>\n",
       "      <th>month</th>\n",
       "      <th>day</th>\n",
       "    </tr>\n",
       "  </thead>\n",
       "  <tbody>\n",
       "    <tr>\n",
       "      <th>0</th>\n",
       "      <td>1</td>\n",
       "      <td>2023-01-01</td>\n",
       "      <td>1</td>\n",
       "      <td>1</td>\n",
       "      <td>5</td>\n",
       "      <td>0.0</td>\n",
       "      <td>118.1100</td>\n",
       "      <td>1</td>\n",
       "      <td>6</td>\n",
       "      <td>True</td>\n",
       "      <td>...</td>\n",
       "      <td>EWR</td>\n",
       "      <td>NaT</td>\n",
       "      <td>NaN</td>\n",
       "      <td>NaN</td>\n",
       "      <td>NaN</td>\n",
       "      <td>NaN</td>\n",
       "      <td>NaN</td>\n",
       "      <td>NaN</td>\n",
       "      <td>NaN</td>\n",
       "      <td>NaN</td>\n",
       "    </tr>\n",
       "    <tr>\n",
       "      <th>1</th>\n",
       "      <td>1</td>\n",
       "      <td>2023-01-01</td>\n",
       "      <td>1</td>\n",
       "      <td>1</td>\n",
       "      <td>8</td>\n",
       "      <td>0.0</td>\n",
       "      <td>100.0000</td>\n",
       "      <td>1</td>\n",
       "      <td>6</td>\n",
       "      <td>True</td>\n",
       "      <td>...</td>\n",
       "      <td>EWR</td>\n",
       "      <td>NaT</td>\n",
       "      <td>NaN</td>\n",
       "      <td>NaN</td>\n",
       "      <td>NaN</td>\n",
       "      <td>NaN</td>\n",
       "      <td>NaN</td>\n",
       "      <td>NaN</td>\n",
       "      <td>NaN</td>\n",
       "      <td>NaN</td>\n",
       "    </tr>\n",
       "    <tr>\n",
       "      <th>2</th>\n",
       "      <td>1</td>\n",
       "      <td>2023-01-01</td>\n",
       "      <td>1</td>\n",
       "      <td>1</td>\n",
       "      <td>11</td>\n",
       "      <td>0.0</td>\n",
       "      <td>115.2000</td>\n",
       "      <td>1</td>\n",
       "      <td>6</td>\n",
       "      <td>True</td>\n",
       "      <td>...</td>\n",
       "      <td>EWR</td>\n",
       "      <td>NaT</td>\n",
       "      <td>NaN</td>\n",
       "      <td>NaN</td>\n",
       "      <td>NaN</td>\n",
       "      <td>NaN</td>\n",
       "      <td>NaN</td>\n",
       "      <td>NaN</td>\n",
       "      <td>NaN</td>\n",
       "      <td>NaN</td>\n",
       "    </tr>\n",
       "    <tr>\n",
       "      <th>3</th>\n",
       "      <td>1</td>\n",
       "      <td>2023-01-01</td>\n",
       "      <td>1</td>\n",
       "      <td>1</td>\n",
       "      <td>12</td>\n",
       "      <td>0.0</td>\n",
       "      <td>148.3150</td>\n",
       "      <td>2</td>\n",
       "      <td>6</td>\n",
       "      <td>True</td>\n",
       "      <td>...</td>\n",
       "      <td>EWR</td>\n",
       "      <td>NaT</td>\n",
       "      <td>NaN</td>\n",
       "      <td>NaN</td>\n",
       "      <td>NaN</td>\n",
       "      <td>NaN</td>\n",
       "      <td>NaN</td>\n",
       "      <td>NaN</td>\n",
       "      <td>NaN</td>\n",
       "      <td>NaN</td>\n",
       "    </tr>\n",
       "    <tr>\n",
       "      <th>4</th>\n",
       "      <td>1</td>\n",
       "      <td>2023-01-01</td>\n",
       "      <td>1</td>\n",
       "      <td>1</td>\n",
       "      <td>13</td>\n",
       "      <td>8.0</td>\n",
       "      <td>146.0475</td>\n",
       "      <td>4</td>\n",
       "      <td>6</td>\n",
       "      <td>True</td>\n",
       "      <td>...</td>\n",
       "      <td>EWR</td>\n",
       "      <td>2019-01-01 13:00:00</td>\n",
       "      <td>12.2</td>\n",
       "      <td>51.0</td>\n",
       "      <td>9.0</td>\n",
       "      <td>0.7</td>\n",
       "      <td>0.446667</td>\n",
       "      <td>13.0</td>\n",
       "      <td>1.0</td>\n",
       "      <td>1.0</td>\n",
       "    </tr>\n",
       "  </tbody>\n",
       "</table>\n",
       "<p>5 rows × 21 columns</p>\n",
       "</div>"
      ],
      "text/plain": [
       "  PULocationID transaction_date  transaction_month  transaction_day  \\\n",
       "0            1       2023-01-01                  1                1   \n",
       "1            1       2023-01-01                  1                1   \n",
       "2            1       2023-01-01                  1                1   \n",
       "3            1       2023-01-01                  1                1   \n",
       "4            1       2023-01-01                  1                1   \n",
       "\n",
       "   transaction_hour  trip_distance  total_amount  count_of_transactions  \\\n",
       "0                 5            0.0      118.1100                      1   \n",
       "1                 8            0.0      100.0000                      1   \n",
       "2                11            0.0      115.2000                      1   \n",
       "3                12            0.0      148.3150                      2   \n",
       "4                13            8.0      146.0475                      4   \n",
       "\n",
       "   transaction_week_day  is_weekend  ...  Borough       date and time  \\\n",
       "0                     6        True  ...      EWR                 NaT   \n",
       "1                     6        True  ...      EWR                 NaT   \n",
       "2                     6        True  ...      EWR                 NaT   \n",
       "3                     6        True  ...      EWR                 NaT   \n",
       "4                     6        True  ...      EWR 2019-01-01 13:00:00   \n",
       "\n",
       "  temperature  humidity  wind speed  cloud cover  amount of precipitation  \\\n",
       "0         NaN       NaN         NaN          NaN                      NaN   \n",
       "1         NaN       NaN         NaN          NaN                      NaN   \n",
       "2         NaN       NaN         NaN          NaN                      NaN   \n",
       "3         NaN       NaN         NaN          NaN                      NaN   \n",
       "4        12.2      51.0         9.0          0.7                 0.446667   \n",
       "\n",
       "   hour  month  day  \n",
       "0   NaN    NaN  NaN  \n",
       "1   NaN    NaN  NaN  \n",
       "2   NaN    NaN  NaN  \n",
       "3   NaN    NaN  NaN  \n",
       "4  13.0    1.0  1.0  \n",
       "\n",
       "[5 rows x 21 columns]"
      ]
     },
     "execution_count": 61,
     "metadata": {},
     "output_type": "execute_result"
    }
   ],
   "source": [
    "nyc_taxi_with_weather = data_with_new_feat.merge(nyc_weather, left_on = ['transaction_month','transaction_day','transaction_hour'],right_on= ['month','day','hour'],how='left')\n",
    "nyc_taxi_with_weather.head()"
   ]
  },
  {
   "cell_type": "code",
   "execution_count": 62,
   "id": "e3d3fcd4",
   "metadata": {},
   "outputs": [],
   "source": [
    "nyc_taxi_with_weather.drop(['date and time','hour','month','day'],axis=1,inplace=True)\n"
   ]
  },
  {
   "cell_type": "code",
   "execution_count": 63,
   "id": "51324319",
   "metadata": {},
   "outputs": [
    {
     "data": {
      "text/html": [
       "<div>\n",
       "<style scoped>\n",
       "    .dataframe tbody tr th:only-of-type {\n",
       "        vertical-align: middle;\n",
       "    }\n",
       "\n",
       "    .dataframe tbody tr th {\n",
       "        vertical-align: top;\n",
       "    }\n",
       "\n",
       "    .dataframe thead th {\n",
       "        text-align: right;\n",
       "    }\n",
       "</style>\n",
       "<table border=\"1\" class=\"dataframe\">\n",
       "  <thead>\n",
       "    <tr style=\"text-align: right;\">\n",
       "      <th></th>\n",
       "      <th>PULocationID</th>\n",
       "      <th>transaction_date</th>\n",
       "      <th>transaction_month</th>\n",
       "      <th>transaction_day</th>\n",
       "      <th>transaction_hour</th>\n",
       "      <th>trip_distance</th>\n",
       "      <th>total_amount</th>\n",
       "      <th>count_of_transactions</th>\n",
       "      <th>transaction_week_day</th>\n",
       "      <th>is_weekend</th>\n",
       "      <th>is_holiday</th>\n",
       "      <th>Borough</th>\n",
       "      <th>temperature</th>\n",
       "      <th>humidity</th>\n",
       "      <th>wind speed</th>\n",
       "      <th>cloud cover</th>\n",
       "      <th>amount of precipitation</th>\n",
       "    </tr>\n",
       "  </thead>\n",
       "  <tbody>\n",
       "    <tr>\n",
       "      <th>0</th>\n",
       "      <td>1</td>\n",
       "      <td>2023-01-01</td>\n",
       "      <td>1</td>\n",
       "      <td>1</td>\n",
       "      <td>5</td>\n",
       "      <td>0.0</td>\n",
       "      <td>118.1100</td>\n",
       "      <td>1</td>\n",
       "      <td>6</td>\n",
       "      <td>True</td>\n",
       "      <td>False</td>\n",
       "      <td>EWR</td>\n",
       "      <td>NaN</td>\n",
       "      <td>NaN</td>\n",
       "      <td>NaN</td>\n",
       "      <td>NaN</td>\n",
       "      <td>NaN</td>\n",
       "    </tr>\n",
       "    <tr>\n",
       "      <th>1</th>\n",
       "      <td>1</td>\n",
       "      <td>2023-01-01</td>\n",
       "      <td>1</td>\n",
       "      <td>1</td>\n",
       "      <td>8</td>\n",
       "      <td>0.0</td>\n",
       "      <td>100.0000</td>\n",
       "      <td>1</td>\n",
       "      <td>6</td>\n",
       "      <td>True</td>\n",
       "      <td>False</td>\n",
       "      <td>EWR</td>\n",
       "      <td>NaN</td>\n",
       "      <td>NaN</td>\n",
       "      <td>NaN</td>\n",
       "      <td>NaN</td>\n",
       "      <td>NaN</td>\n",
       "    </tr>\n",
       "    <tr>\n",
       "      <th>2</th>\n",
       "      <td>1</td>\n",
       "      <td>2023-01-01</td>\n",
       "      <td>1</td>\n",
       "      <td>1</td>\n",
       "      <td>11</td>\n",
       "      <td>0.0</td>\n",
       "      <td>115.2000</td>\n",
       "      <td>1</td>\n",
       "      <td>6</td>\n",
       "      <td>True</td>\n",
       "      <td>False</td>\n",
       "      <td>EWR</td>\n",
       "      <td>NaN</td>\n",
       "      <td>NaN</td>\n",
       "      <td>NaN</td>\n",
       "      <td>NaN</td>\n",
       "      <td>NaN</td>\n",
       "    </tr>\n",
       "    <tr>\n",
       "      <th>3</th>\n",
       "      <td>1</td>\n",
       "      <td>2023-01-01</td>\n",
       "      <td>1</td>\n",
       "      <td>1</td>\n",
       "      <td>12</td>\n",
       "      <td>0.0</td>\n",
       "      <td>148.3150</td>\n",
       "      <td>2</td>\n",
       "      <td>6</td>\n",
       "      <td>True</td>\n",
       "      <td>False</td>\n",
       "      <td>EWR</td>\n",
       "      <td>NaN</td>\n",
       "      <td>NaN</td>\n",
       "      <td>NaN</td>\n",
       "      <td>NaN</td>\n",
       "      <td>NaN</td>\n",
       "    </tr>\n",
       "    <tr>\n",
       "      <th>4</th>\n",
       "      <td>1</td>\n",
       "      <td>2023-01-01</td>\n",
       "      <td>1</td>\n",
       "      <td>1</td>\n",
       "      <td>13</td>\n",
       "      <td>8.0</td>\n",
       "      <td>146.0475</td>\n",
       "      <td>4</td>\n",
       "      <td>6</td>\n",
       "      <td>True</td>\n",
       "      <td>False</td>\n",
       "      <td>EWR</td>\n",
       "      <td>12.2</td>\n",
       "      <td>51.0</td>\n",
       "      <td>9.0</td>\n",
       "      <td>0.7</td>\n",
       "      <td>0.446667</td>\n",
       "    </tr>\n",
       "  </tbody>\n",
       "</table>\n",
       "</div>"
      ],
      "text/plain": [
       "  PULocationID transaction_date  transaction_month  transaction_day  \\\n",
       "0            1       2023-01-01                  1                1   \n",
       "1            1       2023-01-01                  1                1   \n",
       "2            1       2023-01-01                  1                1   \n",
       "3            1       2023-01-01                  1                1   \n",
       "4            1       2023-01-01                  1                1   \n",
       "\n",
       "   transaction_hour  trip_distance  total_amount  count_of_transactions  \\\n",
       "0                 5            0.0      118.1100                      1   \n",
       "1                 8            0.0      100.0000                      1   \n",
       "2                11            0.0      115.2000                      1   \n",
       "3                12            0.0      148.3150                      2   \n",
       "4                13            8.0      146.0475                      4   \n",
       "\n",
       "   transaction_week_day  is_weekend  is_holiday Borough  temperature  \\\n",
       "0                     6        True       False     EWR          NaN   \n",
       "1                     6        True       False     EWR          NaN   \n",
       "2                     6        True       False     EWR          NaN   \n",
       "3                     6        True       False     EWR          NaN   \n",
       "4                     6        True       False     EWR         12.2   \n",
       "\n",
       "   humidity  wind speed  cloud cover  amount of precipitation  \n",
       "0       NaN         NaN          NaN                      NaN  \n",
       "1       NaN         NaN          NaN                      NaN  \n",
       "2       NaN         NaN          NaN                      NaN  \n",
       "3       NaN         NaN          NaN                      NaN  \n",
       "4      51.0         9.0          0.7                 0.446667  "
      ]
     },
     "execution_count": 63,
     "metadata": {},
     "output_type": "execute_result"
    }
   ],
   "source": [
    "nyc_taxi_with_weather.head()"
   ]
  },
  {
   "cell_type": "code",
   "execution_count": 64,
   "id": "6032d035",
   "metadata": {},
   "outputs": [
    {
     "data": {
      "text/plain": [
       "PULocationID                   0\n",
       "transaction_date               0\n",
       "transaction_month              0\n",
       "transaction_day                0\n",
       "transaction_hour               0\n",
       "trip_distance                  0\n",
       "total_amount                   0\n",
       "count_of_transactions          0\n",
       "transaction_week_day           0\n",
       "is_weekend                     0\n",
       "is_holiday                     0\n",
       "Borough                      564\n",
       "temperature                47476\n",
       "humidity                   47476\n",
       "wind speed                 47476\n",
       "cloud cover                47476\n",
       "amount of precipitation    47476\n",
       "dtype: int64"
      ]
     },
     "execution_count": 64,
     "metadata": {},
     "output_type": "execute_result"
    }
   ],
   "source": [
    "nyc_taxi_with_weather.isnull().sum()"
   ]
  },
  {
   "cell_type": "code",
   "execution_count": 65,
   "id": "aa411bc3",
   "metadata": {},
   "outputs": [
    {
     "data": {
      "text/html": [
       "<div>\n",
       "<style scoped>\n",
       "    .dataframe tbody tr th:only-of-type {\n",
       "        vertical-align: middle;\n",
       "    }\n",
       "\n",
       "    .dataframe tbody tr th {\n",
       "        vertical-align: top;\n",
       "    }\n",
       "\n",
       "    .dataframe thead th {\n",
       "        text-align: right;\n",
       "    }\n",
       "</style>\n",
       "<table border=\"1\" class=\"dataframe\">\n",
       "  <thead>\n",
       "    <tr style=\"text-align: right;\">\n",
       "      <th></th>\n",
       "      <th>PULocationID</th>\n",
       "      <th>transaction_date</th>\n",
       "      <th>transaction_month</th>\n",
       "      <th>transaction_day</th>\n",
       "      <th>transaction_hour</th>\n",
       "      <th>trip_distance</th>\n",
       "      <th>total_amount</th>\n",
       "      <th>count_of_transactions</th>\n",
       "      <th>transaction_week_day</th>\n",
       "      <th>is_weekend</th>\n",
       "      <th>is_holiday</th>\n",
       "      <th>Borough</th>\n",
       "      <th>temperature</th>\n",
       "      <th>humidity</th>\n",
       "      <th>wind speed</th>\n",
       "      <th>cloud cover</th>\n",
       "      <th>amount of precipitation</th>\n",
       "    </tr>\n",
       "  </thead>\n",
       "  <tbody>\n",
       "    <tr>\n",
       "      <th>0</th>\n",
       "      <td>100</td>\n",
       "      <td>2023-01-01</td>\n",
       "      <td>1</td>\n",
       "      <td>1</td>\n",
       "      <td>0</td>\n",
       "      <td>3.010000</td>\n",
       "      <td>33.730000</td>\n",
       "      <td>5</td>\n",
       "      <td>6</td>\n",
       "      <td>True</td>\n",
       "      <td>False</td>\n",
       "      <td>Manhattan</td>\n",
       "      <td>NaN</td>\n",
       "      <td>NaN</td>\n",
       "      <td>NaN</td>\n",
       "      <td>NaN</td>\n",
       "      <td>NaN</td>\n",
       "    </tr>\n",
       "    <tr>\n",
       "      <th>1</th>\n",
       "      <td>106</td>\n",
       "      <td>2023-01-01</td>\n",
       "      <td>1</td>\n",
       "      <td>1</td>\n",
       "      <td>0</td>\n",
       "      <td>8.280000</td>\n",
       "      <td>58.460000</td>\n",
       "      <td>1</td>\n",
       "      <td>6</td>\n",
       "      <td>True</td>\n",
       "      <td>False</td>\n",
       "      <td>Brooklyn</td>\n",
       "      <td>NaN</td>\n",
       "      <td>NaN</td>\n",
       "      <td>NaN</td>\n",
       "      <td>NaN</td>\n",
       "      <td>NaN</td>\n",
       "    </tr>\n",
       "    <tr>\n",
       "      <th>2</th>\n",
       "      <td>107</td>\n",
       "      <td>2023-01-01</td>\n",
       "      <td>1</td>\n",
       "      <td>1</td>\n",
       "      <td>0</td>\n",
       "      <td>2.518125</td>\n",
       "      <td>23.412443</td>\n",
       "      <td>176</td>\n",
       "      <td>6</td>\n",
       "      <td>True</td>\n",
       "      <td>False</td>\n",
       "      <td>Manhattan</td>\n",
       "      <td>NaN</td>\n",
       "      <td>NaN</td>\n",
       "      <td>NaN</td>\n",
       "      <td>NaN</td>\n",
       "      <td>NaN</td>\n",
       "    </tr>\n",
       "    <tr>\n",
       "      <th>3</th>\n",
       "      <td>112</td>\n",
       "      <td>2023-01-01</td>\n",
       "      <td>1</td>\n",
       "      <td>1</td>\n",
       "      <td>0</td>\n",
       "      <td>3.675000</td>\n",
       "      <td>25.130000</td>\n",
       "      <td>2</td>\n",
       "      <td>6</td>\n",
       "      <td>True</td>\n",
       "      <td>False</td>\n",
       "      <td>Brooklyn</td>\n",
       "      <td>NaN</td>\n",
       "      <td>NaN</td>\n",
       "      <td>NaN</td>\n",
       "      <td>NaN</td>\n",
       "      <td>NaN</td>\n",
       "    </tr>\n",
       "    <tr>\n",
       "      <th>4</th>\n",
       "      <td>113</td>\n",
       "      <td>2023-01-01</td>\n",
       "      <td>1</td>\n",
       "      <td>1</td>\n",
       "      <td>0</td>\n",
       "      <td>2.831552</td>\n",
       "      <td>27.140517</td>\n",
       "      <td>58</td>\n",
       "      <td>6</td>\n",
       "      <td>True</td>\n",
       "      <td>False</td>\n",
       "      <td>Manhattan</td>\n",
       "      <td>NaN</td>\n",
       "      <td>NaN</td>\n",
       "      <td>NaN</td>\n",
       "      <td>NaN</td>\n",
       "      <td>NaN</td>\n",
       "    </tr>\n",
       "    <tr>\n",
       "      <th>...</th>\n",
       "      <td>...</td>\n",
       "      <td>...</td>\n",
       "      <td>...</td>\n",
       "      <td>...</td>\n",
       "      <td>...</td>\n",
       "      <td>...</td>\n",
       "      <td>...</td>\n",
       "      <td>...</td>\n",
       "      <td>...</td>\n",
       "      <td>...</td>\n",
       "      <td>...</td>\n",
       "      <td>...</td>\n",
       "      <td>...</td>\n",
       "      <td>...</td>\n",
       "      <td>...</td>\n",
       "      <td>...</td>\n",
       "      <td>...</td>\n",
       "    </tr>\n",
       "    <tr>\n",
       "      <th>71404</th>\n",
       "      <td>88</td>\n",
       "      <td>2023-01-31</td>\n",
       "      <td>1</td>\n",
       "      <td>31</td>\n",
       "      <td>23</td>\n",
       "      <td>5.095000</td>\n",
       "      <td>32.043333</td>\n",
       "      <td>6</td>\n",
       "      <td>1</td>\n",
       "      <td>False</td>\n",
       "      <td>False</td>\n",
       "      <td>Manhattan</td>\n",
       "      <td>NaN</td>\n",
       "      <td>NaN</td>\n",
       "      <td>NaN</td>\n",
       "      <td>NaN</td>\n",
       "      <td>NaN</td>\n",
       "    </tr>\n",
       "    <tr>\n",
       "      <th>71405</th>\n",
       "      <td>90</td>\n",
       "      <td>2023-01-31</td>\n",
       "      <td>1</td>\n",
       "      <td>31</td>\n",
       "      <td>23</td>\n",
       "      <td>3.687121</td>\n",
       "      <td>28.706667</td>\n",
       "      <td>66</td>\n",
       "      <td>1</td>\n",
       "      <td>False</td>\n",
       "      <td>False</td>\n",
       "      <td>Manhattan</td>\n",
       "      <td>NaN</td>\n",
       "      <td>NaN</td>\n",
       "      <td>NaN</td>\n",
       "      <td>NaN</td>\n",
       "      <td>NaN</td>\n",
       "    </tr>\n",
       "    <tr>\n",
       "      <th>71406</th>\n",
       "      <td>91</td>\n",
       "      <td>2023-01-31</td>\n",
       "      <td>1</td>\n",
       "      <td>31</td>\n",
       "      <td>23</td>\n",
       "      <td>6.020000</td>\n",
       "      <td>42.150000</td>\n",
       "      <td>1</td>\n",
       "      <td>1</td>\n",
       "      <td>False</td>\n",
       "      <td>False</td>\n",
       "      <td>Brooklyn</td>\n",
       "      <td>NaN</td>\n",
       "      <td>NaN</td>\n",
       "      <td>NaN</td>\n",
       "      <td>NaN</td>\n",
       "      <td>NaN</td>\n",
       "    </tr>\n",
       "    <tr>\n",
       "      <th>71407</th>\n",
       "      <td>93</td>\n",
       "      <td>2023-01-31</td>\n",
       "      <td>1</td>\n",
       "      <td>31</td>\n",
       "      <td>23</td>\n",
       "      <td>8.170000</td>\n",
       "      <td>96.660000</td>\n",
       "      <td>1</td>\n",
       "      <td>1</td>\n",
       "      <td>False</td>\n",
       "      <td>False</td>\n",
       "      <td>Queens</td>\n",
       "      <td>NaN</td>\n",
       "      <td>NaN</td>\n",
       "      <td>NaN</td>\n",
       "      <td>NaN</td>\n",
       "      <td>NaN</td>\n",
       "    </tr>\n",
       "    <tr>\n",
       "      <th>71408</th>\n",
       "      <td>97</td>\n",
       "      <td>2023-01-31</td>\n",
       "      <td>1</td>\n",
       "      <td>31</td>\n",
       "      <td>23</td>\n",
       "      <td>2.243333</td>\n",
       "      <td>14.966667</td>\n",
       "      <td>3</td>\n",
       "      <td>1</td>\n",
       "      <td>False</td>\n",
       "      <td>False</td>\n",
       "      <td>Brooklyn</td>\n",
       "      <td>NaN</td>\n",
       "      <td>NaN</td>\n",
       "      <td>NaN</td>\n",
       "      <td>NaN</td>\n",
       "      <td>NaN</td>\n",
       "    </tr>\n",
       "  </tbody>\n",
       "</table>\n",
       "<p>71409 rows × 17 columns</p>\n",
       "</div>"
      ],
      "text/plain": [
       "      PULocationID transaction_date  transaction_month  transaction_day  \\\n",
       "0              100       2023-01-01                  1                1   \n",
       "1              106       2023-01-01                  1                1   \n",
       "2              107       2023-01-01                  1                1   \n",
       "3              112       2023-01-01                  1                1   \n",
       "4              113       2023-01-01                  1                1   \n",
       "...            ...              ...                ...              ...   \n",
       "71404           88       2023-01-31                  1               31   \n",
       "71405           90       2023-01-31                  1               31   \n",
       "71406           91       2023-01-31                  1               31   \n",
       "71407           93       2023-01-31                  1               31   \n",
       "71408           97       2023-01-31                  1               31   \n",
       "\n",
       "       transaction_hour  trip_distance  total_amount  count_of_transactions  \\\n",
       "0                     0       3.010000     33.730000                      5   \n",
       "1                     0       8.280000     58.460000                      1   \n",
       "2                     0       2.518125     23.412443                    176   \n",
       "3                     0       3.675000     25.130000                      2   \n",
       "4                     0       2.831552     27.140517                     58   \n",
       "...                 ...            ...           ...                    ...   \n",
       "71404                23       5.095000     32.043333                      6   \n",
       "71405                23       3.687121     28.706667                     66   \n",
       "71406                23       6.020000     42.150000                      1   \n",
       "71407                23       8.170000     96.660000                      1   \n",
       "71408                23       2.243333     14.966667                      3   \n",
       "\n",
       "       transaction_week_day  is_weekend  is_holiday    Borough  temperature  \\\n",
       "0                         6        True       False  Manhattan          NaN   \n",
       "1                         6        True       False   Brooklyn          NaN   \n",
       "2                         6        True       False  Manhattan          NaN   \n",
       "3                         6        True       False   Brooklyn          NaN   \n",
       "4                         6        True       False  Manhattan          NaN   \n",
       "...                     ...         ...         ...        ...          ...   \n",
       "71404                     1       False       False  Manhattan          NaN   \n",
       "71405                     1       False       False  Manhattan          NaN   \n",
       "71406                     1       False       False   Brooklyn          NaN   \n",
       "71407                     1       False       False     Queens          NaN   \n",
       "71408                     1       False       False   Brooklyn          NaN   \n",
       "\n",
       "       humidity  wind speed  cloud cover  amount of precipitation  \n",
       "0           NaN         NaN          NaN                      NaN  \n",
       "1           NaN         NaN          NaN                      NaN  \n",
       "2           NaN         NaN          NaN                      NaN  \n",
       "3           NaN         NaN          NaN                      NaN  \n",
       "4           NaN         NaN          NaN                      NaN  \n",
       "...         ...         ...          ...                      ...  \n",
       "71404       NaN         NaN          NaN                      NaN  \n",
       "71405       NaN         NaN          NaN                      NaN  \n",
       "71406       NaN         NaN          NaN                      NaN  \n",
       "71407       NaN         NaN          NaN                      NaN  \n",
       "71408       NaN         NaN          NaN                      NaN  \n",
       "\n",
       "[71409 rows x 17 columns]"
      ]
     },
     "execution_count": 65,
     "metadata": {},
     "output_type": "execute_result"
    }
   ],
   "source": [
    "nyc_taxi_with_weather.sort_values(['transaction_date','transaction_hour']).reset_index().drop('index',axis=1)"
   ]
  },
  {
   "cell_type": "code",
   "execution_count": 66,
   "id": "99ae1a03",
   "metadata": {},
   "outputs": [
    {
     "data": {
      "text/plain": [
       "PULocationID               0\n",
       "transaction_date           0\n",
       "transaction_month          0\n",
       "transaction_day            0\n",
       "transaction_hour           0\n",
       "trip_distance              0\n",
       "total_amount               0\n",
       "count_of_transactions      0\n",
       "transaction_week_day       0\n",
       "is_weekend                 0\n",
       "is_holiday                 0\n",
       "Borough                    0\n",
       "temperature                0\n",
       "humidity                   0\n",
       "wind speed                 0\n",
       "cloud cover                0\n",
       "amount of precipitation    0\n",
       "dtype: int64"
      ]
     },
     "execution_count": 66,
     "metadata": {},
     "output_type": "execute_result"
    }
   ],
   "source": [
    "nyc_taxi_with_weather = nyc_taxi_with_weather.fillna(method='bfill')\n",
    "nyc_taxi_with_weather.isna().sum()"
   ]
  },
  {
   "cell_type": "code",
   "execution_count": 67,
   "id": "584c2fab",
   "metadata": {},
   "outputs": [
    {
     "data": {
      "text/html": [
       "<div>\n",
       "<style scoped>\n",
       "    .dataframe tbody tr th:only-of-type {\n",
       "        vertical-align: middle;\n",
       "    }\n",
       "\n",
       "    .dataframe tbody tr th {\n",
       "        vertical-align: top;\n",
       "    }\n",
       "\n",
       "    .dataframe thead th {\n",
       "        text-align: right;\n",
       "    }\n",
       "</style>\n",
       "<table border=\"1\" class=\"dataframe\">\n",
       "  <thead>\n",
       "    <tr style=\"text-align: right;\">\n",
       "      <th></th>\n",
       "      <th>PULocationID</th>\n",
       "      <th>transaction_date</th>\n",
       "      <th>transaction_month</th>\n",
       "      <th>transaction_day</th>\n",
       "      <th>transaction_hour</th>\n",
       "      <th>trip_distance</th>\n",
       "      <th>total_amount</th>\n",
       "      <th>count_of_transactions</th>\n",
       "      <th>transaction_week_day</th>\n",
       "      <th>is_weekend</th>\n",
       "      <th>is_holiday</th>\n",
       "      <th>Borough</th>\n",
       "      <th>temperature</th>\n",
       "      <th>humidity</th>\n",
       "      <th>wind speed</th>\n",
       "      <th>cloud cover</th>\n",
       "      <th>amount of precipitation</th>\n",
       "    </tr>\n",
       "  </thead>\n",
       "  <tbody>\n",
       "    <tr>\n",
       "      <th>0</th>\n",
       "      <td>1</td>\n",
       "      <td>2023-01-01</td>\n",
       "      <td>1</td>\n",
       "      <td>1</td>\n",
       "      <td>5</td>\n",
       "      <td>0.0</td>\n",
       "      <td>118.1100</td>\n",
       "      <td>1</td>\n",
       "      <td>6</td>\n",
       "      <td>True</td>\n",
       "      <td>False</td>\n",
       "      <td>EWR</td>\n",
       "      <td>12.2</td>\n",
       "      <td>51.0</td>\n",
       "      <td>9.0</td>\n",
       "      <td>0.7</td>\n",
       "      <td>0.446667</td>\n",
       "    </tr>\n",
       "    <tr>\n",
       "      <th>1</th>\n",
       "      <td>1</td>\n",
       "      <td>2023-01-01</td>\n",
       "      <td>1</td>\n",
       "      <td>1</td>\n",
       "      <td>8</td>\n",
       "      <td>0.0</td>\n",
       "      <td>100.0000</td>\n",
       "      <td>1</td>\n",
       "      <td>6</td>\n",
       "      <td>True</td>\n",
       "      <td>False</td>\n",
       "      <td>EWR</td>\n",
       "      <td>12.2</td>\n",
       "      <td>51.0</td>\n",
       "      <td>9.0</td>\n",
       "      <td>0.7</td>\n",
       "      <td>0.446667</td>\n",
       "    </tr>\n",
       "    <tr>\n",
       "      <th>2</th>\n",
       "      <td>1</td>\n",
       "      <td>2023-01-01</td>\n",
       "      <td>1</td>\n",
       "      <td>1</td>\n",
       "      <td>11</td>\n",
       "      <td>0.0</td>\n",
       "      <td>115.2000</td>\n",
       "      <td>1</td>\n",
       "      <td>6</td>\n",
       "      <td>True</td>\n",
       "      <td>False</td>\n",
       "      <td>EWR</td>\n",
       "      <td>12.2</td>\n",
       "      <td>51.0</td>\n",
       "      <td>9.0</td>\n",
       "      <td>0.7</td>\n",
       "      <td>0.446667</td>\n",
       "    </tr>\n",
       "    <tr>\n",
       "      <th>3</th>\n",
       "      <td>1</td>\n",
       "      <td>2023-01-01</td>\n",
       "      <td>1</td>\n",
       "      <td>1</td>\n",
       "      <td>12</td>\n",
       "      <td>0.0</td>\n",
       "      <td>148.3150</td>\n",
       "      <td>2</td>\n",
       "      <td>6</td>\n",
       "      <td>True</td>\n",
       "      <td>False</td>\n",
       "      <td>EWR</td>\n",
       "      <td>12.2</td>\n",
       "      <td>51.0</td>\n",
       "      <td>9.0</td>\n",
       "      <td>0.7</td>\n",
       "      <td>0.446667</td>\n",
       "    </tr>\n",
       "    <tr>\n",
       "      <th>4</th>\n",
       "      <td>1</td>\n",
       "      <td>2023-01-01</td>\n",
       "      <td>1</td>\n",
       "      <td>1</td>\n",
       "      <td>13</td>\n",
       "      <td>8.0</td>\n",
       "      <td>146.0475</td>\n",
       "      <td>4</td>\n",
       "      <td>6</td>\n",
       "      <td>True</td>\n",
       "      <td>False</td>\n",
       "      <td>EWR</td>\n",
       "      <td>12.2</td>\n",
       "      <td>51.0</td>\n",
       "      <td>9.0</td>\n",
       "      <td>0.7</td>\n",
       "      <td>0.446667</td>\n",
       "    </tr>\n",
       "  </tbody>\n",
       "</table>\n",
       "</div>"
      ],
      "text/plain": [
       "  PULocationID transaction_date  transaction_month  transaction_day  \\\n",
       "0            1       2023-01-01                  1                1   \n",
       "1            1       2023-01-01                  1                1   \n",
       "2            1       2023-01-01                  1                1   \n",
       "3            1       2023-01-01                  1                1   \n",
       "4            1       2023-01-01                  1                1   \n",
       "\n",
       "   transaction_hour  trip_distance  total_amount  count_of_transactions  \\\n",
       "0                 5            0.0      118.1100                      1   \n",
       "1                 8            0.0      100.0000                      1   \n",
       "2                11            0.0      115.2000                      1   \n",
       "3                12            0.0      148.3150                      2   \n",
       "4                13            8.0      146.0475                      4   \n",
       "\n",
       "   transaction_week_day  is_weekend  is_holiday Borough  temperature  \\\n",
       "0                     6        True       False     EWR         12.2   \n",
       "1                     6        True       False     EWR         12.2   \n",
       "2                     6        True       False     EWR         12.2   \n",
       "3                     6        True       False     EWR         12.2   \n",
       "4                     6        True       False     EWR         12.2   \n",
       "\n",
       "   humidity  wind speed  cloud cover  amount of precipitation  \n",
       "0      51.0         9.0          0.7                 0.446667  \n",
       "1      51.0         9.0          0.7                 0.446667  \n",
       "2      51.0         9.0          0.7                 0.446667  \n",
       "3      51.0         9.0          0.7                 0.446667  \n",
       "4      51.0         9.0          0.7                 0.446667  "
      ]
     },
     "execution_count": 67,
     "metadata": {},
     "output_type": "execute_result"
    }
   ],
   "source": [
    "nyc_taxi_with_weather.head()"
   ]
  },
  {
   "cell_type": "markdown",
   "id": "b6d29f57",
   "metadata": {},
   "source": [
    "# Model Traning\n",
    "### D.Tree"
   ]
  },
  {
   "cell_type": "code",
   "execution_count": 68,
   "id": "1095d6e7",
   "metadata": {},
   "outputs": [],
   "source": [
    "data_for_model= nyc_taxi_with_weather.copy()"
   ]
  },
  {
   "cell_type": "code",
   "execution_count": 69,
   "id": "64cc78f7",
   "metadata": {},
   "outputs": [],
   "source": [
    "categorical_feature = ['PULocationID','transaction_month','transaction_day','transaction_hour','transaction_week_day','is_weekend','is_holiday','Borough']\n",
    "input_feature =  categorical_feature + ['temperature','humidity','wind speed','cloud cover','amount of precipitation']  \n",
    "target_feature = 'total_amount'\n",
    "\n"
   ]
  },
  {
   "cell_type": "code",
   "execution_count": 70,
   "id": "cbfeb361",
   "metadata": {},
   "outputs": [],
   "source": [
    "from sklearn.model_selection import train_test_split\n",
    "\n",
    "x= data_for_model[input_feature]\n",
    "y= data_for_model[target_feature]\n",
    "\n",
    "x=pd.get_dummies(x)\n",
    "\n",
    "x_train,x_test,y_train,y_test= train_test_split(x,y,test_size=.33,random_state=12)"
   ]
  },
  {
   "cell_type": "code",
   "execution_count": 71,
   "id": "ac8670e1",
   "metadata": {},
   "outputs": [
    {
     "data": {
      "text/plain": [
       "DecisionTreeRegressor(max_depth=10)"
      ]
     },
     "execution_count": 71,
     "metadata": {},
     "output_type": "execute_result"
    }
   ],
   "source": [
    "from sklearn.tree import DecisionTreeRegressor\n",
    "\n",
    "tree=DecisionTreeRegressor(max_depth=10)\n",
    "tree.fit(x_train,y_train)"
   ]
  },
  {
   "cell_type": "code",
   "execution_count": 72,
   "id": "88bd7eaf",
   "metadata": {},
   "outputs": [
    {
     "name": "stdout",
     "output_type": "stream",
     "text": [
      "mean_abslout_error:  10.080546069106267\n",
      "mean_squared_error:  268.38512255931045\n",
      "root_mean_squared_error:  3.174987569913663\n",
      "r2:  0.38483376186477813\n"
     ]
    }
   ],
   "source": [
    "y_pred=tree.predict(x_test)\n",
    "\n",
    "from sklearn.metrics import r2_score,mean_absolute_error,mean_squared_error\n",
    "from math import sqrt \n",
    "\n",
    "print('mean_abslout_error: ',mean_absolute_error(y_test,y_pred))\n",
    "print('mean_squared_error: ',mean_squared_error(y_test,y_pred))\n",
    "print('root_mean_squared_error: ',sqrt(mean_absolute_error(y_test,y_pred)))\n",
    "print('r2: ',r2_score(y_test,y_pred))\n",
    "\n"
   ]
  },
  {
   "cell_type": "markdown",
   "id": "c08eb44d",
   "metadata": {},
   "source": [
    "### Random_forest"
   ]
  },
  {
   "cell_type": "code",
   "execution_count": 73,
   "id": "cf6f5a1d",
   "metadata": {},
   "outputs": [
    {
     "data": {
      "text/plain": [
       "RandomForestRegressor()"
      ]
     },
     "execution_count": 73,
     "metadata": {},
     "output_type": "execute_result"
    }
   ],
   "source": [
    "\n",
    "from sklearn.ensemble import  RandomForestRegressor\n",
    "\n",
    "random_model = RandomForestRegressor()\n",
    "random_model.fit(x_train,y_train)"
   ]
  },
  {
   "cell_type": "code",
   "execution_count": 74,
   "id": "28cdbc67",
   "metadata": {},
   "outputs": [
    {
     "name": "stdout",
     "output_type": "stream",
     "text": [
      "mean_abslout_error:  9.08361189238069\n",
      "mean_squared_error:  249.07628078673147\n",
      "root_mean_squared_error:  3.0139030993681084\n",
      "r2:  0.42909160836057514\n"
     ]
    }
   ],
   "source": [
    "y_pred=random_model.predict(x_test)\n",
    "\n",
    "print('mean_abslout_error: ',mean_absolute_error(y_test,y_pred))\n",
    "print('mean_squared_error: ',mean_squared_error(y_test,y_pred))\n",
    "print('root_mean_squared_error: ',sqrt(mean_absolute_error(y_test,y_pred)))\n",
    "print('r2: ',r2_score(y_test,y_pred))"
   ]
  },
  {
   "cell_type": "markdown",
   "id": "affbeb97",
   "metadata": {},
   "source": [
    "### Gradient Boosting"
   ]
  },
  {
   "cell_type": "code",
   "execution_count": 75,
   "id": "7f168268",
   "metadata": {},
   "outputs": [
    {
     "data": {
      "text/plain": [
       "GradientBoostingRegressor()"
      ]
     },
     "execution_count": 75,
     "metadata": {},
     "output_type": "execute_result"
    }
   ],
   "source": [
    "from sklearn.ensemble import GradientBoostingRegressor\n",
    "\n",
    "grad_model = GradientBoostingRegressor()\n",
    "grad_model.fit(x_train,y_train)"
   ]
  },
  {
   "cell_type": "code",
   "execution_count": 76,
   "id": "c33a94b5",
   "metadata": {},
   "outputs": [
    {
     "name": "stdout",
     "output_type": "stream",
     "text": [
      "mean_abslout_error:  10.022098385953\n",
      "mean_squared_error:  243.44189478735433\n",
      "root_mean_squared_error:  3.1657697935814917\n",
      "r2:  0.44200619917837514\n"
     ]
    }
   ],
   "source": [
    "y_pred=grad_model.predict(x_test)\n",
    "\n",
    "print('mean_abslout_error: ',mean_absolute_error(y_test,y_pred))\n",
    "print('mean_squared_error: ',mean_squared_error(y_test,y_pred))\n",
    "print('root_mean_squared_error: ',sqrt(mean_absolute_error(y_test,y_pred)))\n",
    "print('r2: ',r2_score(y_test,y_pred))"
   ]
  },
  {
   "cell_type": "markdown",
   "id": "8adac1e3",
   "metadata": {},
   "source": [
    "# Comparing the models "
   ]
  },
  {
   "cell_type": "code",
   "execution_count": null,
   "id": "d94ef7c3",
   "metadata": {},
   "outputs": [],
   "source": []
  },
  {
   "cell_type": "markdown",
   "id": "6147eaed",
   "metadata": {},
   "source": [
    "# Tuning"
   ]
  },
  {
   "cell_type": "code",
   "execution_count": 84,
   "id": "0e94c5a0",
   "metadata": {},
   "outputs": [
    {
     "name": "stdout",
     "output_type": "stream",
     "text": [
      "Fitting 3 folds for each of 10 candidates, totalling 30 fits\n"
     ]
    },
    {
     "data": {
      "text/plain": [
       "RandomizedSearchCV(cv=3, estimator=RandomForestRegressor(), n_jobs=-1,\n",
       "                   param_distributions={'bootstrap': [True, False],\n",
       "                                        'max_depth': [10, 20, 50, 100, 150, 200,\n",
       "                                                      300, 500],\n",
       "                                        'max_features': ['auto', 'sqrt'],\n",
       "                                        'n_estimators': [200, 200, 200, 200,\n",
       "                                                         200, 200, 200, 200,\n",
       "                                                         200, 200]},\n",
       "                   random_state=12, verbose=2)"
      ]
     },
     "execution_count": 84,
     "metadata": {},
     "output_type": "execute_result"
    },
    {
     "name": "stdout",
     "output_type": "stream",
     "text": [
      "[CV] END bootstrap=False, max_depth=20, max_features=sqrt, n_estimators=200; total time=  48.5s\n",
      "[CV] END bootstrap=True, max_depth=150, max_features=auto, n_estimators=200; total time= 4.9min\n",
      "[CV] END bootstrap=False, max_depth=500, max_features=auto, n_estimators=200; total time= 7.5min\n",
      "[CV] END bootstrap=True, max_depth=10, max_features=sqrt, n_estimators=200; total time=  13.9s\n",
      "[CV] END bootstrap=True, max_depth=10, max_features=sqrt, n_estimators=200; total time=  13.5s\n",
      "[CV] END bootstrap=True, max_depth=10, max_features=sqrt, n_estimators=200; total time=  13.2s\n",
      "[CV] END bootstrap=False, max_depth=100, max_features=sqrt, n_estimators=200; total time= 1.9min\n",
      "[CV] END bootstrap=False, max_depth=20, max_features=sqrt, n_estimators=200; total time=  48.8s\n",
      "[CV] END bootstrap=False, max_depth=50, max_features=sqrt, n_estimators=200; total time= 1.3min\n",
      "[CV] END bootstrap=False, max_depth=50, max_features=sqrt, n_estimators=200; total time= 1.5min\n",
      "[CV] END bootstrap=False, max_depth=50, max_features=sqrt, n_estimators=200; total time= 1.5min\n",
      "[CV] END bootstrap=False, max_depth=10, max_features=sqrt, n_estimators=200; total time=  18.1s\n",
      "[CV] END bootstrap=False, max_depth=500, max_features=auto, n_estimators=200; total time= 7.6min\n",
      "[CV] END bootstrap=False, max_depth=50, max_features=sqrt, n_estimators=200; total time= 1.2min\n",
      "[CV] END bootstrap=False, max_depth=100, max_features=sqrt, n_estimators=200; total time= 1.8min\n",
      "[CV] END bootstrap=False, max_depth=20, max_features=sqrt, n_estimators=200; total time=  48.3s\n",
      "[CV] END bootstrap=True, max_depth=150, max_features=auto, n_estimators=200; total time= 5.0min\n",
      "[CV] END bootstrap=False, max_depth=10, max_features=auto, n_estimators=200; total time= 2.2min\n",
      "[CV] END bootstrap=False, max_depth=10, max_features=auto, n_estimators=200; total time= 2.2min\n",
      "[CV] END bootstrap=False, max_depth=10, max_features=auto, n_estimators=200; total time= 2.2min\n",
      "[CV] END bootstrap=False, max_depth=50, max_features=sqrt, n_estimators=200; total time= 1.3min\n",
      "[CV] END bootstrap=False, max_depth=100, max_features=sqrt, n_estimators=200; total time= 1.7min\n",
      "[CV] END bootstrap=False, max_depth=100, max_features=sqrt, n_estimators=200; total time= 1.2min\n",
      "[CV] END bootstrap=True, max_depth=150, max_features=auto, n_estimators=200; total time= 5.1min\n",
      "[CV] END bootstrap=False, max_depth=10, max_features=sqrt, n_estimators=200; total time=  18.1s\n",
      "[CV] END bootstrap=False, max_depth=10, max_features=sqrt, n_estimators=200; total time=  22.5s\n",
      "[CV] END bootstrap=False, max_depth=500, max_features=auto, n_estimators=200; total time= 6.8min\n",
      "[CV] END bootstrap=False, max_depth=50, max_features=sqrt, n_estimators=200; total time= 1.3min\n",
      "[CV] END bootstrap=False, max_depth=100, max_features=sqrt, n_estimators=200; total time= 1.8min\n",
      "[CV] END bootstrap=False, max_depth=100, max_features=sqrt, n_estimators=200; total time= 1.0min\n"
     ]
    }
   ],
   "source": [
    "from sklearn.model_selection import RandomizedSearchCV\n",
    "\n",
    "params_grid={\n",
    "    'n_estimators':[int(x)for x in np.linspace(start=200, stop=200, num=10) ],\n",
    "    'max_features':['auto','sqrt'],\n",
    "    'max_depth':[10,20,50,100,150,200,300,500],\n",
    "    'bootstrap':[True, False]\n",
    "}\n",
    "\n",
    "\n",
    "\n",
    "rf= RandomForestRegressor()\n",
    " \n",
    "rf_Random= RandomizedSearchCV(estimator=rf,param_distributions= params_grid,n_iter=10,cv=3,random_state=12,verbose=2,n_jobs=-1)\n",
    "\n",
    "rf_Random.fit(x_train,y_train)"
   ]
  },
  {
   "cell_type": "code",
   "execution_count": 86,
   "id": "ffc449e0",
   "metadata": {},
   "outputs": [
    {
     "data": {
      "text/html": [
       "<div>\n",
       "<style scoped>\n",
       "    .dataframe tbody tr th:only-of-type {\n",
       "        vertical-align: middle;\n",
       "    }\n",
       "\n",
       "    .dataframe tbody tr th {\n",
       "        vertical-align: top;\n",
       "    }\n",
       "\n",
       "    .dataframe thead th {\n",
       "        text-align: right;\n",
       "    }\n",
       "</style>\n",
       "<table border=\"1\" class=\"dataframe\">\n",
       "  <thead>\n",
       "    <tr style=\"text-align: right;\">\n",
       "      <th></th>\n",
       "      <th>mean_fit_time</th>\n",
       "      <th>std_fit_time</th>\n",
       "      <th>mean_score_time</th>\n",
       "      <th>std_score_time</th>\n",
       "      <th>param_n_estimators</th>\n",
       "      <th>param_max_features</th>\n",
       "      <th>param_max_depth</th>\n",
       "      <th>param_bootstrap</th>\n",
       "      <th>params</th>\n",
       "      <th>split0_test_score</th>\n",
       "      <th>split1_test_score</th>\n",
       "      <th>split2_test_score</th>\n",
       "      <th>mean_test_score</th>\n",
       "      <th>std_test_score</th>\n",
       "      <th>rank_test_score</th>\n",
       "    </tr>\n",
       "  </thead>\n",
       "  <tbody>\n",
       "    <tr>\n",
       "      <th>0</th>\n",
       "      <td>46.725333</td>\n",
       "      <td>0.195000</td>\n",
       "      <td>1.816631</td>\n",
       "      <td>0.023721</td>\n",
       "      <td>200</td>\n",
       "      <td>sqrt</td>\n",
       "      <td>20</td>\n",
       "      <td>False</td>\n",
       "      <td>{'n_estimators': 200, 'max_features': 'sqrt', ...</td>\n",
       "      <td>0.405186</td>\n",
       "      <td>0.432181</td>\n",
       "      <td>0.415998</td>\n",
       "      <td>0.417788</td>\n",
       "      <td>0.011093</td>\n",
       "      <td>2</td>\n",
       "    </tr>\n",
       "    <tr>\n",
       "      <th>1</th>\n",
       "      <td>293.157320</td>\n",
       "      <td>7.214693</td>\n",
       "      <td>7.454006</td>\n",
       "      <td>2.045797</td>\n",
       "      <td>200</td>\n",
       "      <td>auto</td>\n",
       "      <td>150</td>\n",
       "      <td>True</td>\n",
       "      <td>{'n_estimators': 200, 'max_features': 'auto', ...</td>\n",
       "      <td>0.411767</td>\n",
       "      <td>0.444281</td>\n",
       "      <td>0.431621</td>\n",
       "      <td>0.429223</td>\n",
       "      <td>0.013382</td>\n",
       "      <td>1</td>\n",
       "    </tr>\n",
       "    <tr>\n",
       "      <th>2</th>\n",
       "      <td>82.064449</td>\n",
       "      <td>4.426405</td>\n",
       "      <td>4.713713</td>\n",
       "      <td>0.566081</td>\n",
       "      <td>200</td>\n",
       "      <td>sqrt</td>\n",
       "      <td>50</td>\n",
       "      <td>False</td>\n",
       "      <td>{'n_estimators': 200, 'max_features': 'sqrt', ...</td>\n",
       "      <td>0.379160</td>\n",
       "      <td>0.406780</td>\n",
       "      <td>0.386017</td>\n",
       "      <td>0.390652</td>\n",
       "      <td>0.011742</td>\n",
       "      <td>4</td>\n",
       "    </tr>\n",
       "    <tr>\n",
       "      <th>3</th>\n",
       "      <td>18.218375</td>\n",
       "      <td>1.991795</td>\n",
       "      <td>1.359723</td>\n",
       "      <td>0.091447</td>\n",
       "      <td>200</td>\n",
       "      <td>sqrt</td>\n",
       "      <td>10</td>\n",
       "      <td>False</td>\n",
       "      <td>{'n_estimators': 200, 'max_features': 'sqrt', ...</td>\n",
       "      <td>0.330920</td>\n",
       "      <td>0.350833</td>\n",
       "      <td>0.341166</td>\n",
       "      <td>0.340973</td>\n",
       "      <td>0.008130</td>\n",
       "      <td>9</td>\n",
       "    </tr>\n",
       "    <tr>\n",
       "      <th>4</th>\n",
       "      <td>430.729355</td>\n",
       "      <td>22.793516</td>\n",
       "      <td>7.519110</td>\n",
       "      <td>0.528136</td>\n",
       "      <td>200</td>\n",
       "      <td>auto</td>\n",
       "      <td>500</td>\n",
       "      <td>False</td>\n",
       "      <td>{'n_estimators': 200, 'max_features': 'auto', ...</td>\n",
       "      <td>0.064292</td>\n",
       "      <td>0.091439</td>\n",
       "      <td>0.095404</td>\n",
       "      <td>0.083712</td>\n",
       "      <td>0.013827</td>\n",
       "      <td>10</td>\n",
       "    </tr>\n",
       "    <tr>\n",
       "      <th>5</th>\n",
       "      <td>129.285973</td>\n",
       "      <td>1.694114</td>\n",
       "      <td>1.556375</td>\n",
       "      <td>0.063468</td>\n",
       "      <td>200</td>\n",
       "      <td>auto</td>\n",
       "      <td>10</td>\n",
       "      <td>False</td>\n",
       "      <td>{'n_estimators': 200, 'max_features': 'auto', ...</td>\n",
       "      <td>0.353626</td>\n",
       "      <td>0.390091</td>\n",
       "      <td>0.363151</td>\n",
       "      <td>0.368956</td>\n",
       "      <td>0.015442</td>\n",
       "      <td>5</td>\n",
       "    </tr>\n",
       "    <tr>\n",
       "      <th>6</th>\n",
       "      <td>73.494959</td>\n",
       "      <td>1.981792</td>\n",
       "      <td>3.696918</td>\n",
       "      <td>0.017076</td>\n",
       "      <td>200</td>\n",
       "      <td>sqrt</td>\n",
       "      <td>50</td>\n",
       "      <td>False</td>\n",
       "      <td>{'n_estimators': 200, 'max_features': 'sqrt', ...</td>\n",
       "      <td>0.380261</td>\n",
       "      <td>0.407357</td>\n",
       "      <td>0.386287</td>\n",
       "      <td>0.391302</td>\n",
       "      <td>0.011616</td>\n",
       "      <td>3</td>\n",
       "    </tr>\n",
       "    <tr>\n",
       "      <th>7</th>\n",
       "      <td>12.252673</td>\n",
       "      <td>0.255204</td>\n",
       "      <td>1.281325</td>\n",
       "      <td>0.013170</td>\n",
       "      <td>200</td>\n",
       "      <td>sqrt</td>\n",
       "      <td>10</td>\n",
       "      <td>True</td>\n",
       "      <td>{'n_estimators': 200, 'max_features': 'sqrt', ...</td>\n",
       "      <td>0.326751</td>\n",
       "      <td>0.352966</td>\n",
       "      <td>0.348808</td>\n",
       "      <td>0.342842</td>\n",
       "      <td>0.011504</td>\n",
       "      <td>6</td>\n",
       "    </tr>\n",
       "    <tr>\n",
       "      <th>8</th>\n",
       "      <td>96.715415</td>\n",
       "      <td>0.551754</td>\n",
       "      <td>11.704865</td>\n",
       "      <td>3.248797</td>\n",
       "      <td>200</td>\n",
       "      <td>sqrt</td>\n",
       "      <td>100</td>\n",
       "      <td>False</td>\n",
       "      <td>{'n_estimators': 200, 'max_features': 'sqrt', ...</td>\n",
       "      <td>0.331244</td>\n",
       "      <td>0.354422</td>\n",
       "      <td>0.337991</td>\n",
       "      <td>0.341219</td>\n",
       "      <td>0.009734</td>\n",
       "      <td>8</td>\n",
       "    </tr>\n",
       "    <tr>\n",
       "      <th>9</th>\n",
       "      <td>77.084208</td>\n",
       "      <td>18.307340</td>\n",
       "      <td>3.147673</td>\n",
       "      <td>1.252447</td>\n",
       "      <td>200</td>\n",
       "      <td>sqrt</td>\n",
       "      <td>100</td>\n",
       "      <td>False</td>\n",
       "      <td>{'n_estimators': 200, 'max_features': 'sqrt', ...</td>\n",
       "      <td>0.335755</td>\n",
       "      <td>0.354191</td>\n",
       "      <td>0.336309</td>\n",
       "      <td>0.342085</td>\n",
       "      <td>0.008563</td>\n",
       "      <td>7</td>\n",
       "    </tr>\n",
       "  </tbody>\n",
       "</table>\n",
       "</div>"
      ],
      "text/plain": [
       "   mean_fit_time  std_fit_time  mean_score_time  std_score_time  \\\n",
       "0      46.725333      0.195000         1.816631        0.023721   \n",
       "1     293.157320      7.214693         7.454006        2.045797   \n",
       "2      82.064449      4.426405         4.713713        0.566081   \n",
       "3      18.218375      1.991795         1.359723        0.091447   \n",
       "4     430.729355     22.793516         7.519110        0.528136   \n",
       "5     129.285973      1.694114         1.556375        0.063468   \n",
       "6      73.494959      1.981792         3.696918        0.017076   \n",
       "7      12.252673      0.255204         1.281325        0.013170   \n",
       "8      96.715415      0.551754        11.704865        3.248797   \n",
       "9      77.084208     18.307340         3.147673        1.252447   \n",
       "\n",
       "  param_n_estimators param_max_features param_max_depth param_bootstrap  \\\n",
       "0                200               sqrt              20           False   \n",
       "1                200               auto             150            True   \n",
       "2                200               sqrt              50           False   \n",
       "3                200               sqrt              10           False   \n",
       "4                200               auto             500           False   \n",
       "5                200               auto              10           False   \n",
       "6                200               sqrt              50           False   \n",
       "7                200               sqrt              10            True   \n",
       "8                200               sqrt             100           False   \n",
       "9                200               sqrt             100           False   \n",
       "\n",
       "                                              params  split0_test_score  \\\n",
       "0  {'n_estimators': 200, 'max_features': 'sqrt', ...           0.405186   \n",
       "1  {'n_estimators': 200, 'max_features': 'auto', ...           0.411767   \n",
       "2  {'n_estimators': 200, 'max_features': 'sqrt', ...           0.379160   \n",
       "3  {'n_estimators': 200, 'max_features': 'sqrt', ...           0.330920   \n",
       "4  {'n_estimators': 200, 'max_features': 'auto', ...           0.064292   \n",
       "5  {'n_estimators': 200, 'max_features': 'auto', ...           0.353626   \n",
       "6  {'n_estimators': 200, 'max_features': 'sqrt', ...           0.380261   \n",
       "7  {'n_estimators': 200, 'max_features': 'sqrt', ...           0.326751   \n",
       "8  {'n_estimators': 200, 'max_features': 'sqrt', ...           0.331244   \n",
       "9  {'n_estimators': 200, 'max_features': 'sqrt', ...           0.335755   \n",
       "\n",
       "   split1_test_score  split2_test_score  mean_test_score  std_test_score  \\\n",
       "0           0.432181           0.415998         0.417788        0.011093   \n",
       "1           0.444281           0.431621         0.429223        0.013382   \n",
       "2           0.406780           0.386017         0.390652        0.011742   \n",
       "3           0.350833           0.341166         0.340973        0.008130   \n",
       "4           0.091439           0.095404         0.083712        0.013827   \n",
       "5           0.390091           0.363151         0.368956        0.015442   \n",
       "6           0.407357           0.386287         0.391302        0.011616   \n",
       "7           0.352966           0.348808         0.342842        0.011504   \n",
       "8           0.354422           0.337991         0.341219        0.009734   \n",
       "9           0.354191           0.336309         0.342085        0.008563   \n",
       "\n",
       "   rank_test_score  \n",
       "0                2  \n",
       "1                1  \n",
       "2                4  \n",
       "3                9  \n",
       "4               10  \n",
       "5                5  \n",
       "6                3  \n",
       "7                6  \n",
       "8                8  \n",
       "9                7  "
      ]
     },
     "execution_count": 86,
     "metadata": {},
     "output_type": "execute_result"
    }
   ],
   "source": [
    "performances = pd.DataFrame.from_dict(rf_Random.cv_results_)\n",
    "performances"
   ]
  },
  {
   "cell_type": "code",
   "execution_count": 94,
   "id": "97f3a922",
   "metadata": {},
   "outputs": [
    {
     "data": {
      "text/plain": [
       "{'n_estimators': 200,\n",
       " 'max_features': 'auto',\n",
       " 'max_depth': 150,\n",
       " 'bootstrap': True}"
      ]
     },
     "execution_count": 94,
     "metadata": {},
     "output_type": "execute_result"
    }
   ],
   "source": [
    "rf_Random.best_params_"
   ]
  },
  {
   "cell_type": "code",
   "execution_count": 96,
   "id": "a2f700a0",
   "metadata": {},
   "outputs": [
    {
     "name": "stdout",
     "output_type": "stream",
     "text": [
      "mean_abslout_error:  9.0753358870335\n",
      "mean_squared_error:  248.7499413147997\n",
      "root_mean_squared_error:  3.0125298151277273\n",
      "r2:  0.42983961191378595\n"
     ]
    }
   ],
   "source": [
    "best_model=RandomForestRegressor(n_estimators=200,max_features='auto',max_depth=150,bootstrap=True)\n",
    "best_model.fit(x_train,y_train)\n",
    "\n",
    "\n",
    "y_pred=best_model.predict(x_test)\n",
    "\n",
    "print('mean_abslout_error: ',mean_absolute_error(y_test,y_pred))\n",
    "print('mean_squared_error: ',mean_squared_error(y_test,y_pred))\n",
    "print('root_mean_squared_error: ',sqrt(mean_absolute_error(y_test,y_pred)))\n",
    "print('r2: ',r2_score(y_test,y_pred))"
   ]
  },
  {
   "cell_type": "code",
   "execution_count": null,
   "id": "3b00f73d",
   "metadata": {},
   "outputs": [],
   "source": []
  }
 ],
 "metadata": {
  "kernelspec": {
   "display_name": "Python 3 (ipykernel)",
   "language": "python",
   "name": "python3"
  },
  "language_info": {
   "codemirror_mode": {
    "name": "ipython",
    "version": 3
   },
   "file_extension": ".py",
   "mimetype": "text/x-python",
   "name": "python",
   "nbconvert_exporter": "python",
   "pygments_lexer": "ipython3",
   "version": "3.9.12"
  }
 },
 "nbformat": 4,
 "nbformat_minor": 5
}
